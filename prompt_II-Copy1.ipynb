{
 "cells": [
  {
   "cell_type": "markdown",
   "metadata": {},
   "source": [
    "# What drives the price of a car?\n",
    "\n",
    "![](images/kurt.jpeg)"
   ]
  },
  {
   "cell_type": "markdown",
   "metadata": {},
   "source": [
    "**OVERVIEW**\n",
    "\n",
    "In this application, you will explore a dataset from kaggle. The original dataset contained information on 3 million used cars. The provided dataset contains information on 426K cars to ensure speed of processing.  Your goal is to understand what factors make a car more or less expensive.  As a result of your analysis, you should provide clear recommendations to your client -- a used car dealership -- as to what consumers value in a used car."
   ]
  },
  {
   "cell_type": "markdown",
   "metadata": {},
   "source": [
    "### CRISP-DM Framework\n",
    "\n",
    "<center>\n",
    "    <img src = images/crisp.png width = 50%/>\n",
    "</center>\n",
    "\n",
    "\n",
    "To frame the task, throughout our practical applications we will refer back to a standard process in industry for data projects called CRISP-DM.  This process provides a framework for working through a data problem.  Your first step in this application will be to read through a brief overview of CRISP-DM [here](https://mo-pcco.s3.us-east-1.amazonaws.com/BH-PCMLAI/module_11/readings_starter.zip).  After reading the overview, answer the questions below."
   ]
  },
  {
   "cell_type": "markdown",
   "metadata": {},
   "source": [
    "### Business Understanding\n",
    "\n",
    "From a business perspective, we are tasked with identifying key drivers for used car prices.  In the CRISP-DM overview, we are asked to convert this business framing to a data problem definition.  Using a few sentences, reframe the task as a data task with the appropriate technical vocabulary. "
   ]
  },
  {
   "cell_type": "markdown",
   "metadata": {
    "tags": []
   },
   "source": [
    "### The objective of this task is to develp a Machine learning model to predict prices of used cars based on the data provided. In this task, linear regression models will be developed to identify key features that influence the price of used cars. The models developed will provide insights into the patterns and relationship in the data. The insights derived from the data will eventually help estimate the prices of the used cars."
   ]
  },
  {
   "cell_type": "markdown",
   "metadata": {},
   "source": [
    "### Data Understanding\n",
    "\n",
    "After considering the business understanding, we want to get familiar with our data.  Write down some steps that you would take to get to know the dataset and identify any quality issues within.  Take time to get to know the dataset and explore what information it contains and how this could be used to inform your business understanding."
   ]
  },
  {
   "cell_type": "code",
   "execution_count": 268,
   "metadata": {
    "tags": []
   },
   "outputs": [],
   "source": [
    "import plotly.express as px\n",
    "import pandas as pd\n",
    "import numpy as np\n",
    "import seaborn as sns\n",
    "import matplotlib.pyplot as plt\n",
    "from sklearn.linear_model import LinearRegression, HuberRegressor\n",
    "from sklearn.metrics import mean_squared_error\n",
    "from sklearn.decomposition import PCA\n",
    "from sklearn.preprocessing import StandardScaler, LabelEncoder\n",
    "from sklearn.model_selection import train_test_split\n",
    "from sklearn.preprocessing import StandardScaler, PolynomialFeatures\n",
    "from sklearn.pipeline import Pipeline\n",
    "from sklearn.feature_selection import SequentialFeatureSelector, SelectFromModel\n",
    "from sklearn.model_selection import train_test_split, GridSearchCV\n",
    "from sklearn.compose import ColumnTransformer\n",
    "from sklearn.preprocessing import StandardScaler, OneHotEncoder\n",
    "from sklearn.linear_model import Ridge\n",
    "from sklearn.compose import TransformedTargetRegressor\n",
    "from sklearn.inspection import permutation_importance\n",
    "from sklearn.linear_model import Lasso"
   ]
  },
  {
   "cell_type": "code",
   "execution_count": 524,
   "metadata": {
    "tags": []
   },
   "outputs": [
    {
     "data": {
      "text/html": [
       "<div>\n",
       "<style scoped>\n",
       "    .dataframe tbody tr th:only-of-type {\n",
       "        vertical-align: middle;\n",
       "    }\n",
       "\n",
       "    .dataframe tbody tr th {\n",
       "        vertical-align: top;\n",
       "    }\n",
       "\n",
       "    .dataframe thead th {\n",
       "        text-align: right;\n",
       "    }\n",
       "</style>\n",
       "<table border=\"1\" class=\"dataframe\">\n",
       "  <thead>\n",
       "    <tr style=\"text-align: right;\">\n",
       "      <th></th>\n",
       "      <th>id</th>\n",
       "      <th>region</th>\n",
       "      <th>price</th>\n",
       "      <th>year</th>\n",
       "      <th>manufacturer</th>\n",
       "      <th>model</th>\n",
       "      <th>condition</th>\n",
       "      <th>cylinders</th>\n",
       "      <th>fuel</th>\n",
       "      <th>odometer</th>\n",
       "      <th>title_status</th>\n",
       "      <th>transmission</th>\n",
       "      <th>VIN</th>\n",
       "      <th>drive</th>\n",
       "      <th>size</th>\n",
       "      <th>type</th>\n",
       "      <th>paint_color</th>\n",
       "      <th>state</th>\n",
       "    </tr>\n",
       "  </thead>\n",
       "  <tbody>\n",
       "    <tr>\n",
       "      <th>0</th>\n",
       "      <td>7222695916</td>\n",
       "      <td>prescott</td>\n",
       "      <td>6000</td>\n",
       "      <td>NaN</td>\n",
       "      <td>NaN</td>\n",
       "      <td>NaN</td>\n",
       "      <td>NaN</td>\n",
       "      <td>NaN</td>\n",
       "      <td>NaN</td>\n",
       "      <td>NaN</td>\n",
       "      <td>NaN</td>\n",
       "      <td>NaN</td>\n",
       "      <td>NaN</td>\n",
       "      <td>NaN</td>\n",
       "      <td>NaN</td>\n",
       "      <td>NaN</td>\n",
       "      <td>NaN</td>\n",
       "      <td>az</td>\n",
       "    </tr>\n",
       "    <tr>\n",
       "      <th>1</th>\n",
       "      <td>7218891961</td>\n",
       "      <td>fayetteville</td>\n",
       "      <td>11900</td>\n",
       "      <td>NaN</td>\n",
       "      <td>NaN</td>\n",
       "      <td>NaN</td>\n",
       "      <td>NaN</td>\n",
       "      <td>NaN</td>\n",
       "      <td>NaN</td>\n",
       "      <td>NaN</td>\n",
       "      <td>NaN</td>\n",
       "      <td>NaN</td>\n",
       "      <td>NaN</td>\n",
       "      <td>NaN</td>\n",
       "      <td>NaN</td>\n",
       "      <td>NaN</td>\n",
       "      <td>NaN</td>\n",
       "      <td>ar</td>\n",
       "    </tr>\n",
       "    <tr>\n",
       "      <th>2</th>\n",
       "      <td>7221797935</td>\n",
       "      <td>florida keys</td>\n",
       "      <td>21000</td>\n",
       "      <td>NaN</td>\n",
       "      <td>NaN</td>\n",
       "      <td>NaN</td>\n",
       "      <td>NaN</td>\n",
       "      <td>NaN</td>\n",
       "      <td>NaN</td>\n",
       "      <td>NaN</td>\n",
       "      <td>NaN</td>\n",
       "      <td>NaN</td>\n",
       "      <td>NaN</td>\n",
       "      <td>NaN</td>\n",
       "      <td>NaN</td>\n",
       "      <td>NaN</td>\n",
       "      <td>NaN</td>\n",
       "      <td>fl</td>\n",
       "    </tr>\n",
       "    <tr>\n",
       "      <th>3</th>\n",
       "      <td>7222270760</td>\n",
       "      <td>worcester / central MA</td>\n",
       "      <td>1500</td>\n",
       "      <td>NaN</td>\n",
       "      <td>NaN</td>\n",
       "      <td>NaN</td>\n",
       "      <td>NaN</td>\n",
       "      <td>NaN</td>\n",
       "      <td>NaN</td>\n",
       "      <td>NaN</td>\n",
       "      <td>NaN</td>\n",
       "      <td>NaN</td>\n",
       "      <td>NaN</td>\n",
       "      <td>NaN</td>\n",
       "      <td>NaN</td>\n",
       "      <td>NaN</td>\n",
       "      <td>NaN</td>\n",
       "      <td>ma</td>\n",
       "    </tr>\n",
       "    <tr>\n",
       "      <th>4</th>\n",
       "      <td>7210384030</td>\n",
       "      <td>greensboro</td>\n",
       "      <td>4900</td>\n",
       "      <td>NaN</td>\n",
       "      <td>NaN</td>\n",
       "      <td>NaN</td>\n",
       "      <td>NaN</td>\n",
       "      <td>NaN</td>\n",
       "      <td>NaN</td>\n",
       "      <td>NaN</td>\n",
       "      <td>NaN</td>\n",
       "      <td>NaN</td>\n",
       "      <td>NaN</td>\n",
       "      <td>NaN</td>\n",
       "      <td>NaN</td>\n",
       "      <td>NaN</td>\n",
       "      <td>NaN</td>\n",
       "      <td>nc</td>\n",
       "    </tr>\n",
       "  </tbody>\n",
       "</table>\n",
       "</div>"
      ],
      "text/plain": [
       "           id                  region  price  year manufacturer model  \\\n",
       "0  7222695916                prescott   6000   NaN          NaN   NaN   \n",
       "1  7218891961            fayetteville  11900   NaN          NaN   NaN   \n",
       "2  7221797935            florida keys  21000   NaN          NaN   NaN   \n",
       "3  7222270760  worcester / central MA   1500   NaN          NaN   NaN   \n",
       "4  7210384030              greensboro   4900   NaN          NaN   NaN   \n",
       "\n",
       "  condition cylinders fuel  odometer title_status transmission  VIN drive  \\\n",
       "0       NaN       NaN  NaN       NaN          NaN          NaN  NaN   NaN   \n",
       "1       NaN       NaN  NaN       NaN          NaN          NaN  NaN   NaN   \n",
       "2       NaN       NaN  NaN       NaN          NaN          NaN  NaN   NaN   \n",
       "3       NaN       NaN  NaN       NaN          NaN          NaN  NaN   NaN   \n",
       "4       NaN       NaN  NaN       NaN          NaN          NaN  NaN   NaN   \n",
       "\n",
       "  size type paint_color state  \n",
       "0  NaN  NaN         NaN    az  \n",
       "1  NaN  NaN         NaN    ar  \n",
       "2  NaN  NaN         NaN    fl  \n",
       "3  NaN  NaN         NaN    ma  \n",
       "4  NaN  NaN         NaN    nc  "
      ]
     },
     "execution_count": 524,
     "metadata": {},
     "output_type": "execute_result"
    }
   ],
   "source": [
    "cars = pd.read_csv('data/vehicles.csv')\n",
    "cars.head()"
   ]
  },
  {
   "cell_type": "code",
   "execution_count": 525,
   "metadata": {
    "tags": []
   },
   "outputs": [
    {
     "name": "stdout",
     "output_type": "stream",
     "text": [
      "<class 'pandas.core.frame.DataFrame'>\n",
      "RangeIndex: 426880 entries, 0 to 426879\n",
      "Data columns (total 18 columns):\n",
      " #   Column        Non-Null Count   Dtype  \n",
      "---  ------        --------------   -----  \n",
      " 0   id            426880 non-null  int64  \n",
      " 1   region        426880 non-null  object \n",
      " 2   price         426880 non-null  int64  \n",
      " 3   year          425675 non-null  float64\n",
      " 4   manufacturer  409234 non-null  object \n",
      " 5   model         421603 non-null  object \n",
      " 6   condition     252776 non-null  object \n",
      " 7   cylinders     249202 non-null  object \n",
      " 8   fuel          423867 non-null  object \n",
      " 9   odometer      422480 non-null  float64\n",
      " 10  title_status  418638 non-null  object \n",
      " 11  transmission  424324 non-null  object \n",
      " 12  VIN           265838 non-null  object \n",
      " 13  drive         296313 non-null  object \n",
      " 14  size          120519 non-null  object \n",
      " 15  type          334022 non-null  object \n",
      " 16  paint_color   296677 non-null  object \n",
      " 17  state         426880 non-null  object \n",
      "dtypes: float64(2), int64(2), object(14)\n",
      "memory usage: 58.6+ MB\n"
     ]
    }
   ],
   "source": [
    "cars.info()"
   ]
  },
  {
   "cell_type": "code",
   "execution_count": 526,
   "metadata": {
    "tags": []
   },
   "outputs": [
    {
     "data": {
      "text/plain": [
       "id                   0\n",
       "region               0\n",
       "price                0\n",
       "year              1205\n",
       "manufacturer     17646\n",
       "model             5277\n",
       "condition       174104\n",
       "cylinders       177678\n",
       "fuel              3013\n",
       "odometer          4400\n",
       "title_status      8242\n",
       "transmission      2556\n",
       "VIN             161042\n",
       "drive           130567\n",
       "size            306361\n",
       "type             92858\n",
       "paint_color     130203\n",
       "state                0\n",
       "dtype: int64"
      ]
     },
     "execution_count": 526,
     "metadata": {},
     "output_type": "execute_result"
    }
   ],
   "source": [
    "#Number of missing data in each column\n",
    "cars.isna().sum()"
   ]
  },
  {
   "cell_type": "code",
   "execution_count": 527,
   "metadata": {
    "tags": []
   },
   "outputs": [
    {
     "data": {
      "text/plain": [
       "id               0.000000\n",
       "region           0.000000\n",
       "price            0.000000\n",
       "year             0.282281\n",
       "manufacturer     4.133714\n",
       "model            1.236179\n",
       "condition       40.785232\n",
       "cylinders       41.622470\n",
       "fuel             0.705819\n",
       "odometer         1.030735\n",
       "title_status     1.930753\n",
       "transmission     0.598763\n",
       "VIN             37.725356\n",
       "drive           30.586347\n",
       "size            71.767476\n",
       "type            21.752717\n",
       "paint_color     30.501078\n",
       "state            0.000000\n",
       "dtype: float64"
      ]
     },
     "execution_count": 527,
     "metadata": {},
     "output_type": "execute_result"
    }
   ],
   "source": [
    "#percentage of missing data in each column\n",
    "cars.isna().mean() * 100"
   ]
  },
  {
   "cell_type": "code",
   "execution_count": 528,
   "metadata": {
    "tags": []
   },
   "outputs": [
    {
     "name": "stdout",
     "output_type": "stream",
     "text": [
      "[nan 'good' 'excellent' 'fair' 'like new' 'new' 'salvage']\n",
      "[nan '8 cylinders' '6 cylinders' '4 cylinders' '5 cylinders' 'other'\n",
      " '3 cylinders' '10 cylinders' '12 cylinders']\n",
      "[nan '3GTP1VEC4EG551563' '1GCSCSE06AZ123805' ... '2HGES15535H620534'\n",
      " '1FDWF37P64EA24868' 'SAJGX2749VCOO8376']\n",
      "[nan 'rwd' '4wd' 'fwd']\n",
      "[nan 'full-size' 'mid-size' 'compact' 'sub-compact']\n",
      "[nan 'pickup' 'truck' 'other' 'coupe' 'SUV' 'hatchback' 'mini-van' 'sedan'\n",
      " 'offroad' 'bus' 'van' 'convertible' 'wagon']\n",
      "[nan 'white' 'blue' 'red' 'black' 'silver' 'grey' 'brown' 'yellow'\n",
      " 'orange' 'green' 'custom' 'purple']\n"
     ]
    }
   ],
   "source": [
    "for i in ['condition', 'cylinders', 'VIN', 'drive', 'size', 'type', 'paint_color']:\n",
    "    print(cars[i].unique())"
   ]
  },
  {
   "cell_type": "code",
   "execution_count": 529,
   "metadata": {
    "tags": []
   },
   "outputs": [
    {
     "name": "stdout",
     "output_type": "stream",
     "text": [
      "7\n",
      "9\n",
      "118247\n",
      "4\n",
      "5\n",
      "14\n",
      "13\n",
      "43\n",
      "29650\n"
     ]
    }
   ],
   "source": [
    "#too many unique values for VIN and model\n",
    "for i in ['condition', 'cylinders', 'VIN', 'drive', 'size', 'type', 'paint_color','manufacturer', 'model']:\n",
    "    print(len(cars[i].unique()))"
   ]
  },
  {
   "cell_type": "code",
   "execution_count": 530,
   "metadata": {
    "tags": []
   },
   "outputs": [
    {
     "data": {
      "text/plain": [
       "68"
      ]
     },
     "execution_count": 530,
     "metadata": {},
     "output_type": "execute_result"
    }
   ],
   "source": [
    "#From the columns missing data, how many of the rows are missing data in all of the columns with missing data\n",
    "nulls = ['manufacturer', 'model', 'condition', 'cylinders', 'fuel', 'odometer', 'title_status', 'transmission', 'VIN', 'drive', 'size', 'type', 'paint_color']\n",
    "df_nulls = cars[nulls]\n",
    "df_nulls[df_nulls.isna().all(axis=1)].shape[0]"
   ]
  },
  {
   "cell_type": "code",
   "execution_count": 531,
   "metadata": {
    "tags": []
   },
   "outputs": [
    {
     "data": {
      "text/plain": [
       "33073"
      ]
     },
     "execution_count": 531,
     "metadata": {},
     "output_type": "execute_result"
    }
   ],
   "source": [
    "#From the columns missing data, how many of the rows are missing data in all of the columns with missing data\n",
    "nulls = ['condition', 'cylinders', 'VIN', 'drive', 'size', 'type', 'paint_color']\n",
    "df_nulls = cars[nulls]\n",
    "df_nulls[df_nulls.isna().all(axis=1)].shape[0]"
   ]
  },
  {
   "cell_type": "code",
   "execution_count": null,
   "metadata": {},
   "outputs": [],
   "source": []
  },
  {
   "cell_type": "markdown",
   "metadata": {},
   "source": [
    "### Data Preparation\n",
    "\n",
    "After our initial exploration and fine tuning of the business understanding, it is time to construct our final dataset prior to modeling.  Here, we want to make sure to handle any integrity issues and cleaning, the engineering of new features, any transformations that we believe should happen (scaling, logarithms, normalization, etc.), and general preparation for modeling with `sklearn`. "
   ]
  },
  {
   "cell_type": "code",
   "execution_count": 532,
   "metadata": {
    "tags": []
   },
   "outputs": [],
   "source": [
    "# Features 'condition', 'cylinders', 'VIN', 'drive', 'size', 'type', 'paint_color' has too many missing values, so decided to drop the columns.\n",
    "# Features 'region', 'state' is not useful data to build a model, so they are dropped\n",
    "# Features 'id', 'model' has too many unique values ,so they are dropped too\n",
    "cars_df = cars.drop(columns=['condition', 'cylinders', 'VIN', 'drive', 'size', 'type', 'paint_color', 'region', 'state', 'id', 'model'])"
   ]
  },
  {
   "cell_type": "code",
   "execution_count": 533,
   "metadata": {
    "tags": []
   },
   "outputs": [
    {
     "data": {
      "text/plain": [
       "price           0.000000\n",
       "year            0.282281\n",
       "manufacturer    4.133714\n",
       "fuel            0.705819\n",
       "odometer        1.030735\n",
       "title_status    1.930753\n",
       "transmission    0.598763\n",
       "dtype: float64"
      ]
     },
     "execution_count": 533,
     "metadata": {},
     "output_type": "execute_result"
    }
   ],
   "source": [
    "cars_df.isna().mean() * 100"
   ]
  },
  {
   "cell_type": "code",
   "execution_count": 534,
   "metadata": {
    "tags": []
   },
   "outputs": [],
   "source": [
    "#Dropped the rest of the missing rows\n",
    "cars_df = cars_df.dropna()"
   ]
  },
  {
   "cell_type": "code",
   "execution_count": 535,
   "metadata": {
    "tags": []
   },
   "outputs": [
    {
     "data": {
      "text/plain": [
       "price           0.0\n",
       "year            0.0\n",
       "manufacturer    0.0\n",
       "fuel            0.0\n",
       "odometer        0.0\n",
       "title_status    0.0\n",
       "transmission    0.0\n",
       "dtype: float64"
      ]
     },
     "execution_count": 535,
     "metadata": {},
     "output_type": "execute_result"
    }
   ],
   "source": [
    "cars_df.isna().mean() * 100"
   ]
  },
  {
   "cell_type": "code",
   "execution_count": 536,
   "metadata": {
    "tags": []
   },
   "outputs": [
    {
     "name": "stdout",
     "output_type": "stream",
     "text": [
      "<class 'pandas.core.frame.DataFrame'>\n",
      "Index: 394751 entries, 27 to 426879\n",
      "Data columns (total 7 columns):\n",
      " #   Column        Non-Null Count   Dtype  \n",
      "---  ------        --------------   -----  \n",
      " 0   price         394751 non-null  int64  \n",
      " 1   year          394751 non-null  float64\n",
      " 2   manufacturer  394751 non-null  object \n",
      " 3   fuel          394751 non-null  object \n",
      " 4   odometer      394751 non-null  float64\n",
      " 5   title_status  394751 non-null  object \n",
      " 6   transmission  394751 non-null  object \n",
      "dtypes: float64(2), int64(1), object(4)\n",
      "memory usage: 24.1+ MB\n"
     ]
    }
   ],
   "source": [
    "cars_df.info()"
   ]
  },
  {
   "cell_type": "code",
   "execution_count": 537,
   "metadata": {
    "tags": []
   },
   "outputs": [
    {
     "data": {
      "image/png": "[encoded data removed]",
      "text/plain": [
       "<Figure size 800x400 with 1 Axes>"
      ]
     },
     "metadata": {},
     "output_type": "display_data"
    }
   ],
   "source": [
    "#Box plot to identify outliers in feature'year'\n",
    "plt.figure(figsize=(8, 4))\n",
    "sns.boxplot(x=cars_df['year'])\n",
    "plt.title('Box Plot for Year')\n",
    "plt.show()"
   ]
  },
  {
   "cell_type": "code",
   "execution_count": 538,
   "metadata": {
    "tags": []
   },
   "outputs": [],
   "source": [
    "# Too many outliers in year. The data seems to have antique cars from the early last century which will skew the data ans model.So decided to drop the outliers\n",
    "Q1 = cars_df['year'].quantile(0.25)\n",
    "Q3 = cars_df['year'].quantile(0.75)\n",
    "IQR = Q3 - Q1\n",
    "lower_bound = Q1 - 1.5 * IQR\n",
    "upper_bound = Q3 + 1.5 * IQR\n",
    "cars_df = cars_df[(cars_df['year'] >= lower_bound) & (cars_df['year'] <= upper_bound)]"
   ]
  },
  {
   "cell_type": "code",
   "execution_count": 539,
   "metadata": {
    "tags": []
   },
   "outputs": [
    {
     "data": {
      "image/png": "[encoded data removed]",
      "text/plain": [
       "<Figure size 800x400 with 1 Axes>"
      ]
     },
     "metadata": {},
     "output_type": "display_data"
    }
   ],
   "source": [
    "plt.figure(figsize=(8, 4))\n",
    "sns.boxplot(x=cars_df['year'])\n",
    "plt.title('Box Plot for Year after removing outliers')\n",
    "plt.show()"
   ]
  },
  {
   "cell_type": "code",
   "execution_count": 540,
   "metadata": {
    "tags": []
   },
   "outputs": [
    {
     "data": {
      "image/png": "[encoded data removed]",
      "text/plain": [
       "<Figure size 800x400 with 1 Axes>"
      ]
     },
     "metadata": {},
     "output_type": "display_data"
    }
   ],
   "source": [
    "plt.figure(figsize=(8, 4))\n",
    "sns.boxplot(x=cars_df['odometer'])\n",
    "plt.title('Box Plot for Odometer')\n",
    "plt.show()"
   ]
  },
  {
   "cell_type": "code",
   "execution_count": 541,
   "metadata": {
    "tags": []
   },
   "outputs": [],
   "source": [
    "# Dropped outliers from the Odometer column\n",
    "Q1 = cars_df['odometer'].quantile(0.25)\n",
    "Q3 = cars_df['odometer'].quantile(0.75)\n",
    "IQR = Q3 - Q1\n",
    "lower_bound = Q1 - 1.5 * IQR\n",
    "upper_bound = Q3 + 1.5 * IQR\n",
    "cars_df = cars_df[(cars_df['odometer'] >= lower_bound) & (cars_df['odometer'] <= upper_bound)]"
   ]
  },
  {
   "cell_type": "code",
   "execution_count": 542,
   "metadata": {
    "tags": []
   },
   "outputs": [
    {
     "data": {
      "image/png": "[encoded data removed]",
      "text/plain": [
       "<Figure size 800x400 with 1 Axes>"
      ]
     },
     "metadata": {},
     "output_type": "display_data"
    }
   ],
   "source": [
    "plt.figure(figsize=(8, 4))\n",
    "sns.boxplot(x=cars_df['odometer'])\n",
    "plt.title('Box Plot for Odometer after removing outliers')\n",
    "plt.show()"
   ]
  },
  {
   "cell_type": "code",
   "execution_count": 543,
   "metadata": {
    "tags": []
   },
   "outputs": [
    {
     "data": {
      "image/png": "[encoded data removed]",
      "text/plain": [
       "<Figure size 800x400 with 1 Axes>"
      ]
     },
     "metadata": {},
     "output_type": "display_data"
    }
   ],
   "source": [
    "plt.figure(figsize=(8, 4))\n",
    "sns.boxplot(x=cars_df['price'])\n",
    "plt.title('Box Plot for Price')\n",
    "plt.show()"
   ]
  },
  {
   "cell_type": "code",
   "execution_count": 544,
   "metadata": {
    "tags": []
   },
   "outputs": [],
   "source": [
    "# Dropped outliers since some values are in billion which is not realistic\n",
    "Q1 = cars_df['price'].quantile(0.25)\n",
    "Q3 = cars_df['price'].quantile(0.75)\n",
    "IQR = Q3 - Q1\n",
    "lower_bound = Q1 - 1.5 * IQR\n",
    "upper_bound = Q3 + 1.5 * IQR\n",
    "cars_df = cars_df[(cars_df['price'] >= lower_bound) & (cars_df['price'] <= upper_bound)]"
   ]
  },
  {
   "cell_type": "code",
   "execution_count": 545,
   "metadata": {
    "tags": []
   },
   "outputs": [
    {
     "data": {
      "image/png": "[encoded data removed]",
      "text/plain": [
       "<Figure size 800x400 with 1 Axes>"
      ]
     },
     "metadata": {},
     "output_type": "display_data"
    }
   ],
   "source": [
    "plt.figure(figsize=(8, 4))\n",
    "sns.boxplot(x=cars_df['price'])\n",
    "plt.title('Box Plot for Price after removing outliers')\n",
    "plt.show()"
   ]
  },
  {
   "cell_type": "code",
   "execution_count": 546,
   "metadata": {
    "tags": []
   },
   "outputs": [
    {
     "name": "stdout",
     "output_type": "stream",
     "text": [
      "<class 'pandas.core.frame.DataFrame'>\n",
      "Index: 372381 entries, 27 to 426879\n",
      "Data columns (total 7 columns):\n",
      " #   Column        Non-Null Count   Dtype  \n",
      "---  ------        --------------   -----  \n",
      " 0   price         372381 non-null  int64  \n",
      " 1   year          372381 non-null  float64\n",
      " 2   manufacturer  372381 non-null  object \n",
      " 3   fuel          372381 non-null  object \n",
      " 4   odometer      372381 non-null  float64\n",
      " 5   title_status  372381 non-null  object \n",
      " 6   transmission  372381 non-null  object \n",
      "dtypes: float64(2), int64(1), object(4)\n",
      "memory usage: 22.7+ MB\n"
     ]
    }
   ],
   "source": [
    "cars_df.info()"
   ]
  },
  {
   "cell_type": "code",
   "execution_count": 281,
   "metadata": {
    "tags": []
   },
   "outputs": [
    {
     "data": {
      "text/html": [
       "<div>\n",
       "<style scoped>\n",
       "    .dataframe tbody tr th:only-of-type {\n",
       "        vertical-align: middle;\n",
       "    }\n",
       "\n",
       "    .dataframe tbody tr th {\n",
       "        vertical-align: top;\n",
       "    }\n",
       "\n",
       "    .dataframe thead th {\n",
       "        text-align: right;\n",
       "    }\n",
       "</style>\n",
       "<table border=\"1\" class=\"dataframe\">\n",
       "  <thead>\n",
       "    <tr style=\"text-align: right;\">\n",
       "      <th></th>\n",
       "      <th>price</th>\n",
       "      <th>year</th>\n",
       "      <th>manufacturer</th>\n",
       "      <th>fuel</th>\n",
       "      <th>odometer</th>\n",
       "      <th>title_status</th>\n",
       "      <th>transmission</th>\n",
       "    </tr>\n",
       "  </thead>\n",
       "  <tbody>\n",
       "    <tr>\n",
       "      <th>27</th>\n",
       "      <td>33590</td>\n",
       "      <td>2014.0</td>\n",
       "      <td>gmc</td>\n",
       "      <td>gas</td>\n",
       "      <td>57923.0</td>\n",
       "      <td>clean</td>\n",
       "      <td>other</td>\n",
       "    </tr>\n",
       "    <tr>\n",
       "      <th>28</th>\n",
       "      <td>22590</td>\n",
       "      <td>2010.0</td>\n",
       "      <td>chevrolet</td>\n",
       "      <td>gas</td>\n",
       "      <td>71229.0</td>\n",
       "      <td>clean</td>\n",
       "      <td>other</td>\n",
       "    </tr>\n",
       "    <tr>\n",
       "      <th>29</th>\n",
       "      <td>39590</td>\n",
       "      <td>2020.0</td>\n",
       "      <td>chevrolet</td>\n",
       "      <td>gas</td>\n",
       "      <td>19160.0</td>\n",
       "      <td>clean</td>\n",
       "      <td>other</td>\n",
       "    </tr>\n",
       "    <tr>\n",
       "      <th>30</th>\n",
       "      <td>30990</td>\n",
       "      <td>2017.0</td>\n",
       "      <td>toyota</td>\n",
       "      <td>gas</td>\n",
       "      <td>41124.0</td>\n",
       "      <td>clean</td>\n",
       "      <td>other</td>\n",
       "    </tr>\n",
       "    <tr>\n",
       "      <th>31</th>\n",
       "      <td>15000</td>\n",
       "      <td>2013.0</td>\n",
       "      <td>ford</td>\n",
       "      <td>gas</td>\n",
       "      <td>128000.0</td>\n",
       "      <td>clean</td>\n",
       "      <td>automatic</td>\n",
       "    </tr>\n",
       "  </tbody>\n",
       "</table>\n",
       "</div>"
      ],
      "text/plain": [
       "    price    year manufacturer fuel  odometer title_status transmission\n",
       "27  33590  2014.0          gmc  gas   57923.0        clean        other\n",
       "28  22590  2010.0    chevrolet  gas   71229.0        clean        other\n",
       "29  39590  2020.0    chevrolet  gas   19160.0        clean        other\n",
       "30  30990  2017.0       toyota  gas   41124.0        clean        other\n",
       "31  15000  2013.0         ford  gas  128000.0        clean    automatic"
      ]
     },
     "execution_count": 281,
     "metadata": {},
     "output_type": "execute_result"
    }
   ],
   "source": [
    "cars_df.head()"
   ]
  },
  {
   "cell_type": "markdown",
   "metadata": {},
   "source": [
    "### Modeling\n",
    "\n",
    "With your (almost?) final dataset in hand, it is now time to build some models.  Here, you should build a number of different regression models with the price as the target.  In building your models, you should explore different parameters and be sure to cross-validate your findings."
   ]
  },
  {
   "cell_type": "code",
   "execution_count": 381,
   "metadata": {
    "tags": []
   },
   "outputs": [],
   "source": [
    "# Drop all features except the numerical features to build a simple regression model\n",
    "cars_lin = cars_df.drop(columns=['year', 'fuel','title_status', 'transmission', 'manufacturer'])"
   ]
  },
  {
   "cell_type": "code",
   "execution_count": 382,
   "metadata": {
    "tags": []
   },
   "outputs": [
    {
     "data": {
      "text/html": [
       "<div>\n",
       "<style scoped>\n",
       "    .dataframe tbody tr th:only-of-type {\n",
       "        vertical-align: middle;\n",
       "    }\n",
       "\n",
       "    .dataframe tbody tr th {\n",
       "        vertical-align: top;\n",
       "    }\n",
       "\n",
       "    .dataframe thead th {\n",
       "        text-align: right;\n",
       "    }\n",
       "</style>\n",
       "<table border=\"1\" class=\"dataframe\">\n",
       "  <thead>\n",
       "    <tr style=\"text-align: right;\">\n",
       "      <th></th>\n",
       "      <th>price</th>\n",
       "      <th>odometer</th>\n",
       "    </tr>\n",
       "  </thead>\n",
       "  <tbody>\n",
       "    <tr>\n",
       "      <th>27</th>\n",
       "      <td>33590</td>\n",
       "      <td>57923.0</td>\n",
       "    </tr>\n",
       "    <tr>\n",
       "      <th>28</th>\n",
       "      <td>22590</td>\n",
       "      <td>71229.0</td>\n",
       "    </tr>\n",
       "    <tr>\n",
       "      <th>29</th>\n",
       "      <td>39590</td>\n",
       "      <td>19160.0</td>\n",
       "    </tr>\n",
       "    <tr>\n",
       "      <th>30</th>\n",
       "      <td>30990</td>\n",
       "      <td>41124.0</td>\n",
       "    </tr>\n",
       "    <tr>\n",
       "      <th>31</th>\n",
       "      <td>15000</td>\n",
       "      <td>128000.0</td>\n",
       "    </tr>\n",
       "  </tbody>\n",
       "</table>\n",
       "</div>"
      ],
      "text/plain": [
       "    price  odometer\n",
       "27  33590   57923.0\n",
       "28  22590   71229.0\n",
       "29  39590   19160.0\n",
       "30  30990   41124.0\n",
       "31  15000  128000.0"
      ]
     },
     "execution_count": 382,
     "metadata": {},
     "output_type": "execute_result"
    }
   ],
   "source": [
    "cars_lin.head()"
   ]
  },
  {
   "cell_type": "code",
   "execution_count": 383,
   "metadata": {
    "tags": []
   },
   "outputs": [],
   "source": [
    "#Split the data into test and train data\n",
    "X_train, X_test, y_train, y_test = train_test_split(cars_lin.drop('price', axis=1), cars_lin['price'], test_size=0.3, random_state=42)"
   ]
  },
  {
   "cell_type": "code",
   "execution_count": 384,
   "metadata": {
    "tags": []
   },
   "outputs": [],
   "source": [
    "linreg = LinearRegression().fit(X_train, y_train)"
   ]
  },
  {
   "cell_type": "code",
   "execution_count": 385,
   "metadata": {
    "tags": []
   },
   "outputs": [
    {
     "data": {
      "text/plain": [
       "array([-0.10299652])"
      ]
     },
     "execution_count": 385,
     "metadata": {},
     "output_type": "execute_result"
    }
   ],
   "source": [
    "linreg.coef_"
   ]
  },
  {
   "cell_type": "code",
   "execution_count": 386,
   "metadata": {
    "tags": []
   },
   "outputs": [
    {
     "name": "stdout",
     "output_type": "stream",
     "text": [
      "135413509.71920952\n"
     ]
    }
   ],
   "source": [
    "predictions = linreg.predict(X_train)\n",
    "mse_train_lin = mean_squared_error(y_train, predictions)\n",
    "print(mse_train_lin)"
   ]
  },
  {
   "cell_type": "code",
   "execution_count": 387,
   "metadata": {
    "tags": []
   },
   "outputs": [
    {
     "name": "stdout",
     "output_type": "stream",
     "text": [
      "133718815.37258998\n"
     ]
    }
   ],
   "source": [
    "predictions = linreg.predict(X_test)\n",
    "mse_test_lin = mean_squared_error(y_test, predictions)\n",
    "print(mse_test_lin)"
   ]
  },
  {
   "cell_type": "markdown",
   "metadata": {},
   "source": [
    "### Above are the results of building a simple linear regression model with the only numerical feature in the dataset, \"Odometer\". The co-efficient was positive which suggests that the price increases when the odometer reading increases. This does not seem right. Ideally the price decreases as the odometer reading increases.The train and test MSE was also really high. Considering the results , this model is not the right fit and we can understand that there are other factors that impacts the price"
   ]
  },
  {
   "cell_type": "code",
   "execution_count": 294,
   "metadata": {
    "tags": []
   },
   "outputs": [
    {
     "data": {
      "text/html": [
       "<div>\n",
       "<style scoped>\n",
       "    .dataframe tbody tr th:only-of-type {\n",
       "        vertical-align: middle;\n",
       "    }\n",
       "\n",
       "    .dataframe tbody tr th {\n",
       "        vertical-align: top;\n",
       "    }\n",
       "\n",
       "    .dataframe thead th {\n",
       "        text-align: right;\n",
       "    }\n",
       "</style>\n",
       "<table border=\"1\" class=\"dataframe\">\n",
       "  <thead>\n",
       "    <tr style=\"text-align: right;\">\n",
       "      <th></th>\n",
       "      <th>price</th>\n",
       "      <th>year</th>\n",
       "      <th>manufacturer</th>\n",
       "      <th>fuel</th>\n",
       "      <th>odometer</th>\n",
       "      <th>title_status</th>\n",
       "      <th>transmission</th>\n",
       "    </tr>\n",
       "  </thead>\n",
       "  <tbody>\n",
       "    <tr>\n",
       "      <th>27</th>\n",
       "      <td>33590</td>\n",
       "      <td>2014.0</td>\n",
       "      <td>gmc</td>\n",
       "      <td>gas</td>\n",
       "      <td>57923.0</td>\n",
       "      <td>clean</td>\n",
       "      <td>other</td>\n",
       "    </tr>\n",
       "    <tr>\n",
       "      <th>28</th>\n",
       "      <td>22590</td>\n",
       "      <td>2010.0</td>\n",
       "      <td>chevrolet</td>\n",
       "      <td>gas</td>\n",
       "      <td>71229.0</td>\n",
       "      <td>clean</td>\n",
       "      <td>other</td>\n",
       "    </tr>\n",
       "    <tr>\n",
       "      <th>29</th>\n",
       "      <td>39590</td>\n",
       "      <td>2020.0</td>\n",
       "      <td>chevrolet</td>\n",
       "      <td>gas</td>\n",
       "      <td>19160.0</td>\n",
       "      <td>clean</td>\n",
       "      <td>other</td>\n",
       "    </tr>\n",
       "    <tr>\n",
       "      <th>30</th>\n",
       "      <td>30990</td>\n",
       "      <td>2017.0</td>\n",
       "      <td>toyota</td>\n",
       "      <td>gas</td>\n",
       "      <td>41124.0</td>\n",
       "      <td>clean</td>\n",
       "      <td>other</td>\n",
       "    </tr>\n",
       "    <tr>\n",
       "      <th>31</th>\n",
       "      <td>15000</td>\n",
       "      <td>2013.0</td>\n",
       "      <td>ford</td>\n",
       "      <td>gas</td>\n",
       "      <td>128000.0</td>\n",
       "      <td>clean</td>\n",
       "      <td>automatic</td>\n",
       "    </tr>\n",
       "  </tbody>\n",
       "</table>\n",
       "</div>"
      ],
      "text/plain": [
       "    price    year manufacturer fuel  odometer title_status transmission\n",
       "27  33590  2014.0          gmc  gas   57923.0        clean        other\n",
       "28  22590  2010.0    chevrolet  gas   71229.0        clean        other\n",
       "29  39590  2020.0    chevrolet  gas   19160.0        clean        other\n",
       "30  30990  2017.0       toyota  gas   41124.0        clean        other\n",
       "31  15000  2013.0         ford  gas  128000.0        clean    automatic"
      ]
     },
     "execution_count": 294,
     "metadata": {},
     "output_type": "execute_result"
    }
   ],
   "source": [
    "cars_df.head()"
   ]
  },
  {
   "cell_type": "markdown",
   "metadata": {},
   "source": [
    "### Now build a linear regression model including all features and encoding the non-numerical features"
   ]
  },
  {
   "cell_type": "code",
   "execution_count": 391,
   "metadata": {
    "tags": []
   },
   "outputs": [],
   "source": [
    "from sklearn.metrics import mean_squared_error\n",
    "X = pd.get_dummies(cars_df.drop('price', axis = 1))\n",
    "y = cars_df['price']\n",
    "X_train, X_test, y_train, y_test = train_test_split(X, y, test_size=0.3, random_state=42)\n"
   ]
  },
  {
   "cell_type": "code",
   "execution_count": 392,
   "metadata": {
    "tags": []
   },
   "outputs": [
    {
     "name": "stdout",
     "output_type": "stream",
     "text": [
      "<class 'pandas.core.frame.DataFrame'>\n",
      "Index: 260437 entries, 130566 to 141558\n",
      "Data columns (total 57 columns):\n",
      " #   Column                        Non-Null Count   Dtype  \n",
      "---  ------                        --------------   -----  \n",
      " 0   year                          260437 non-null  float64\n",
      " 1   odometer                      260437 non-null  float64\n",
      " 2   manufacturer_acura            260437 non-null  bool   \n",
      " 3   manufacturer_alfa-romeo       260437 non-null  bool   \n",
      " 4   manufacturer_aston-martin     260437 non-null  bool   \n",
      " 5   manufacturer_audi             260437 non-null  bool   \n",
      " 6   manufacturer_bmw              260437 non-null  bool   \n",
      " 7   manufacturer_buick            260437 non-null  bool   \n",
      " 8   manufacturer_cadillac         260437 non-null  bool   \n",
      " 9   manufacturer_chevrolet        260437 non-null  bool   \n",
      " 10  manufacturer_chrysler         260437 non-null  bool   \n",
      " 11  manufacturer_dodge            260437 non-null  bool   \n",
      " 12  manufacturer_ferrari          260437 non-null  bool   \n",
      " 13  manufacturer_fiat             260437 non-null  bool   \n",
      " 14  manufacturer_ford             260437 non-null  bool   \n",
      " 15  manufacturer_gmc              260437 non-null  bool   \n",
      " 16  manufacturer_harley-davidson  260437 non-null  bool   \n",
      " 17  manufacturer_honda            260437 non-null  bool   \n",
      " 18  manufacturer_hyundai          260437 non-null  bool   \n",
      " 19  manufacturer_infiniti         260437 non-null  bool   \n",
      " 20  manufacturer_jaguar           260437 non-null  bool   \n",
      " 21  manufacturer_jeep             260437 non-null  bool   \n",
      " 22  manufacturer_kia              260437 non-null  bool   \n",
      " 23  manufacturer_land rover       260437 non-null  bool   \n",
      " 24  manufacturer_lexus            260437 non-null  bool   \n",
      " 25  manufacturer_lincoln          260437 non-null  bool   \n",
      " 26  manufacturer_mazda            260437 non-null  bool   \n",
      " 27  manufacturer_mercedes-benz    260437 non-null  bool   \n",
      " 28  manufacturer_mercury          260437 non-null  bool   \n",
      " 29  manufacturer_mini             260437 non-null  bool   \n",
      " 30  manufacturer_mitsubishi       260437 non-null  bool   \n",
      " 31  manufacturer_morgan           260437 non-null  bool   \n",
      " 32  manufacturer_nissan           260437 non-null  bool   \n",
      " 33  manufacturer_pontiac          260437 non-null  bool   \n",
      " 34  manufacturer_porsche          260437 non-null  bool   \n",
      " 35  manufacturer_ram              260437 non-null  bool   \n",
      " 36  manufacturer_rover            260437 non-null  bool   \n",
      " 37  manufacturer_saturn           260437 non-null  bool   \n",
      " 38  manufacturer_subaru           260437 non-null  bool   \n",
      " 39  manufacturer_tesla            260437 non-null  bool   \n",
      " 40  manufacturer_toyota           260437 non-null  bool   \n",
      " 41  manufacturer_volkswagen       260437 non-null  bool   \n",
      " 42  manufacturer_volvo            260437 non-null  bool   \n",
      " 43  fuel_diesel                   260437 non-null  bool   \n",
      " 44  fuel_electric                 260437 non-null  bool   \n",
      " 45  fuel_gas                      260437 non-null  bool   \n",
      " 46  fuel_hybrid                   260437 non-null  bool   \n",
      " 47  fuel_other                    260437 non-null  bool   \n",
      " 48  title_status_clean            260437 non-null  bool   \n",
      " 49  title_status_lien             260437 non-null  bool   \n",
      " 50  title_status_missing          260437 non-null  bool   \n",
      " 51  title_status_parts only       260437 non-null  bool   \n",
      " 52  title_status_rebuilt          260437 non-null  bool   \n",
      " 53  title_status_salvage          260437 non-null  bool   \n",
      " 54  transmission_automatic        260437 non-null  bool   \n",
      " 55  transmission_manual           260437 non-null  bool   \n",
      " 56  transmission_other            260437 non-null  bool   \n",
      "dtypes: bool(55), float64(2)\n",
      "memory usage: 19.6 MB\n"
     ]
    }
   ],
   "source": [
    "X_train.info()"
   ]
  },
  {
   "cell_type": "code",
   "execution_count": 393,
   "metadata": {
    "tags": []
   },
   "outputs": [
    {
     "name": "stdout",
     "output_type": "stream",
     "text": [
      "<class 'pandas.core.frame.DataFrame'>\n",
      "Index: 111616 entries, 234676 to 118569\n",
      "Data columns (total 57 columns):\n",
      " #   Column                        Non-Null Count   Dtype  \n",
      "---  ------                        --------------   -----  \n",
      " 0   year                          111616 non-null  float64\n",
      " 1   odometer                      111616 non-null  float64\n",
      " 2   manufacturer_acura            111616 non-null  bool   \n",
      " 3   manufacturer_alfa-romeo       111616 non-null  bool   \n",
      " 4   manufacturer_aston-martin     111616 non-null  bool   \n",
      " 5   manufacturer_audi             111616 non-null  bool   \n",
      " 6   manufacturer_bmw              111616 non-null  bool   \n",
      " 7   manufacturer_buick            111616 non-null  bool   \n",
      " 8   manufacturer_cadillac         111616 non-null  bool   \n",
      " 9   manufacturer_chevrolet        111616 non-null  bool   \n",
      " 10  manufacturer_chrysler         111616 non-null  bool   \n",
      " 11  manufacturer_dodge            111616 non-null  bool   \n",
      " 12  manufacturer_ferrari          111616 non-null  bool   \n",
      " 13  manufacturer_fiat             111616 non-null  bool   \n",
      " 14  manufacturer_ford             111616 non-null  bool   \n",
      " 15  manufacturer_gmc              111616 non-null  bool   \n",
      " 16  manufacturer_harley-davidson  111616 non-null  bool   \n",
      " 17  manufacturer_honda            111616 non-null  bool   \n",
      " 18  manufacturer_hyundai          111616 non-null  bool   \n",
      " 19  manufacturer_infiniti         111616 non-null  bool   \n",
      " 20  manufacturer_jaguar           111616 non-null  bool   \n",
      " 21  manufacturer_jeep             111616 non-null  bool   \n",
      " 22  manufacturer_kia              111616 non-null  bool   \n",
      " 23  manufacturer_land rover       111616 non-null  bool   \n",
      " 24  manufacturer_lexus            111616 non-null  bool   \n",
      " 25  manufacturer_lincoln          111616 non-null  bool   \n",
      " 26  manufacturer_mazda            111616 non-null  bool   \n",
      " 27  manufacturer_mercedes-benz    111616 non-null  bool   \n",
      " 28  manufacturer_mercury          111616 non-null  bool   \n",
      " 29  manufacturer_mini             111616 non-null  bool   \n",
      " 30  manufacturer_mitsubishi       111616 non-null  bool   \n",
      " 31  manufacturer_morgan           111616 non-null  bool   \n",
      " 32  manufacturer_nissan           111616 non-null  bool   \n",
      " 33  manufacturer_pontiac          111616 non-null  bool   \n",
      " 34  manufacturer_porsche          111616 non-null  bool   \n",
      " 35  manufacturer_ram              111616 non-null  bool   \n",
      " 36  manufacturer_rover            111616 non-null  bool   \n",
      " 37  manufacturer_saturn           111616 non-null  bool   \n",
      " 38  manufacturer_subaru           111616 non-null  bool   \n",
      " 39  manufacturer_tesla            111616 non-null  bool   \n",
      " 40  manufacturer_toyota           111616 non-null  bool   \n",
      " 41  manufacturer_volkswagen       111616 non-null  bool   \n",
      " 42  manufacturer_volvo            111616 non-null  bool   \n",
      " 43  fuel_diesel                   111616 non-null  bool   \n",
      " 44  fuel_electric                 111616 non-null  bool   \n",
      " 45  fuel_gas                      111616 non-null  bool   \n",
      " 46  fuel_hybrid                   111616 non-null  bool   \n",
      " 47  fuel_other                    111616 non-null  bool   \n",
      " 48  title_status_clean            111616 non-null  bool   \n",
      " 49  title_status_lien             111616 non-null  bool   \n",
      " 50  title_status_missing          111616 non-null  bool   \n",
      " 51  title_status_parts only       111616 non-null  bool   \n",
      " 52  title_status_rebuilt          111616 non-null  bool   \n",
      " 53  title_status_salvage          111616 non-null  bool   \n",
      " 54  transmission_automatic        111616 non-null  bool   \n",
      " 55  transmission_manual           111616 non-null  bool   \n",
      " 56  transmission_other            111616 non-null  bool   \n",
      "dtypes: bool(55), float64(2)\n",
      "memory usage: 8.4 MB\n"
     ]
    }
   ],
   "source": [
    "X_test.info()"
   ]
  },
  {
   "cell_type": "code",
   "execution_count": 394,
   "metadata": {
    "tags": []
   },
   "outputs": [
    {
     "name": "stdout",
     "output_type": "stream",
     "text": [
      "LinearRegression(fit_intercept=False)\n",
      "[ 8.02999033e+02 -4.44351027e-02 -5.25384661e+04 -5.21021500e+04\n",
      " -4.20457654e+04 -5.04663122e+04 -5.14826260e+04 -5.58125910e+04\n",
      " -5.13485573e+04 -5.13858439e+04 -5.72056066e+04 -5.57993926e+04\n",
      " -6.80036488e+04 -6.22033389e+04 -5.09070497e+04 -4.83369499e+04\n",
      " -5.42218571e+04 -5.56666222e+04 -5.91378282e+04 -5.21130528e+04\n",
      " -4.80207258e+04 -5.13126567e+04 -5.99639249e+04 -6.01773481e+04\n",
      " -4.94380744e+04 -5.16487483e+04 -5.74831577e+04 -5.13446494e+04\n",
      " -5.54951675e+04 -5.71309645e+04 -5.87339194e+04 -7.19410560e+04\n",
      " -5.72945223e+04 -5.49066909e+04 -4.23969277e+04 -4.70249470e+04\n",
      " -4.66810201e+04 -5.61328503e+04 -5.54478560e+04 -3.87258104e+04\n",
      " -5.14969679e+04 -5.92246867e+04 -5.20673904e+04 -4.31785471e+05\n",
      " -4.46174124e+05 -4.41393762e+05 -4.44836654e+05 -4.40677709e+05\n",
      " -3.65174127e+05 -3.62001753e+05 -3.69309003e+05 -3.71218754e+05\n",
      " -3.68085230e+05 -3.69078854e+05 -7.37770892e+05 -7.35918097e+05\n",
      " -7.31178732e+05]\n",
      "154220285340801.22\n"
     ]
    }
   ],
   "source": [
    "all_features_linreg = LinearRegression(fit_intercept=False).fit(X_train, y_train)\n",
    "linreg_train_mse = mean_squared_error(all_features_linreg.predict(X_train), y_train)\n",
    "\n",
    "print(all_features_linreg)\n",
    "print(all_features_linreg.coef_)\n",
    "print(linreg_mse)"
   ]
  },
  {
   "cell_type": "code",
   "execution_count": 395,
   "metadata": {
    "tags": []
   },
   "outputs": [
    {
     "name": "stdout",
     "output_type": "stream",
     "text": [
      "98259987.41239233\n"
     ]
    }
   ],
   "source": [
    "linreg_test_mse = mean_squared_error(all_features_linreg.predict(X_test), y_test)\n",
    "print(linreg_test_mse)"
   ]
  },
  {
   "cell_type": "markdown",
   "metadata": {},
   "source": [
    "### Above results are from a linear regression model including non-numeric features. But both the train and test MSE is very high even in this model.Let us now build a Huber regressor model with non-numeric features"
   ]
  },
  {
   "cell_type": "code",
   "execution_count": 396,
   "metadata": {
    "tags": []
   },
   "outputs": [],
   "source": [
    "X = pd.get_dummies(cars_df.drop('price', axis = 1))\n",
    "y = cars_df['price']\n",
    "X_train, X_test, y_train, y_test = train_test_split(X, y, test_size=0.3, random_state=42)"
   ]
  },
  {
   "cell_type": "code",
   "execution_count": 397,
   "metadata": {
    "tags": []
   },
   "outputs": [
    {
     "name": "stdout",
     "output_type": "stream",
     "text": [
      "HuberRegressor(fit_intercept=False)\n",
      "[ 1.28482174e+01 -1.13407441e-01  1.58825531e-04  3.88822322e-05\n",
      "  3.78768513e-07  2.39140195e-04  4.07000516e-04  7.51615927e-05\n",
      "  1.56945078e-04  7.89333849e-04  1.91312820e-06  9.49892406e-05\n",
      " -5.36154708e-07  2.31291128e-05  1.16054581e-03  3.40505265e-04\n",
      "  3.16910264e-06  1.24075768e-05  1.19994889e-04  1.32455228e-04\n",
      "  7.50860940e-05  3.72071451e-04  1.21215616e-04 -6.86018163e-07\n",
      "  2.01689046e-04  1.02302183e-04  3.77376534e-05  2.33607745e-04\n",
      " -3.58026705e-05  5.58531256e-05  5.74037978e-05  7.52307069e-08\n",
      "  1.65233756e-04 -5.44667598e-05  4.32025710e-05  4.94400900e-04\n",
      "  5.79749351e-05 -3.28173750e-05  1.08934279e-04  3.48966422e-05\n",
      "  3.55786403e-04  1.67185814e-04  4.56346251e-05  5.51581695e-04\n",
      "  6.55207935e-05  4.58843148e-03  9.17113846e-05  1.06351465e-03\n",
      "  6.16060960e-03  4.39146828e-05 -9.24791158e-06 -3.56894208e-06\n",
      "  1.54084857e-04  1.49677211e-05  3.36390891e-03  1.11316996e-04\n",
      "  2.88553410e-03]\n",
      "137005350.2806673\n"
     ]
    }
   ],
   "source": [
    "huber_all_features = HuberRegressor(fit_intercept=False).fit(X_train, y_train)\n",
    "huber_train_mse = mean_squared_error(huber_all_features.predict(X_train), y_train)\n",
    "\n",
    "print(huber_all_features)\n",
    "print(huber_all_features.coef_)\n",
    "print(huber_train_mse)"
   ]
  },
  {
   "cell_type": "code",
   "execution_count": 398,
   "metadata": {
    "tags": []
   },
   "outputs": [
    {
     "name": "stdout",
     "output_type": "stream",
     "text": [
      "135197685.44485715\n"
     ]
    }
   ],
   "source": [
    "huber_test_mse = mean_squared_error(huber_all_features.predict(X_test), y_test)\n",
    "print(huber_test_mse)"
   ]
  },
  {
   "cell_type": "markdown",
   "metadata": {
    "tags": []
   },
   "source": [
    "### The Hube regressor too resulted in high MSE"
   ]
  },
  {
   "cell_type": "markdown",
   "metadata": {},
   "source": [
    "#### Let us now try to build a Lasso regression model and estimate the relationship between variables.Had to drop the 'manufacturer' feature because it had too many unique values and model build fails becauses it need more memory. Used Ohe hot encoder to transform the catagorical variables and scaled the numerical variables."
   ]
  },
  {
   "cell_type": "code",
   "execution_count": 470,
   "metadata": {
    "tags": []
   },
   "outputs": [],
   "source": [
    "X = cars_df.drop(['price','manufacturer'], axis=1)\n",
    "y = cars_df['price']\n",
    "X_train, X_test, y_train, y_test = train_test_split(X, y, test_size=0.2, random_state=42)\n",
    "\n",
    "\n",
    "categorical_cols = ['fuel', 'title_status', 'transmission']\n",
    "numerical_cols = ['year', 'odometer']\n",
    "numeric_transformer = StandardScaler()\n",
    "categorical_transformer = OneHotEncoder(drop='first', sparse_output=False)\n",
    "\n",
    "# column transformer\n",
    "preprocessor = ColumnTransformer(\n",
    "    transformers=[\n",
    "        ('num', numeric_transformer, numerical_cols),\n",
    "        ('cat', categorical_transformer, categorical_cols)\n",
    "    ]\n",
    ")\n",
    "\n",
    "#Pipeline to build the linre regression model with the preprocessor and transformers\n",
    "lasso_pipe = Pipeline([\n",
    "                                ('preprocessor', preprocessor),\n",
    "                                ('lasso', Lasso()),\n",
    "                                   ])"
   ]
  },
  {
   "cell_type": "code",
   "execution_count": 471,
   "metadata": {
    "tags": []
   },
   "outputs": [],
   "source": [
    "lasso_pipe.fit(X_train, y_train)\n",
    "lasso_train_mse = mean_squared_error(y_train, lasso_pipe.predict(X_train))\n",
    "lasso_test_mse = mean_squared_error(y_test, lasso_pipe.predict(X_test))"
   ]
  },
  {
   "cell_type": "code",
   "execution_count": 472,
   "metadata": {
    "tags": []
   },
   "outputs": [
    {
     "name": "stdout",
     "output_type": "stream",
     "text": [
      "110310338.07147613\n",
      "110310338.07147613\n"
     ]
    }
   ],
   "source": [
    "print(lasso_train_mse)\n",
    "print(lasso_train_mse)"
   ]
  },
  {
   "cell_type": "code",
   "execution_count": 473,
   "metadata": {
    "tags": []
   },
   "outputs": [
    {
     "data": {
      "text/html": [
       "<style>#sk-container-id-23 {color: black;}#sk-container-id-23 pre{padding: 0;}#sk-container-id-23 div.sk-toggleable {background-color: white;}#sk-container-id-23 label.sk-toggleable__label {cursor: pointer;display: block;width: 100%;margin-bottom: 0;padding: 0.3em;box-sizing: border-box;text-align: center;}#sk-container-id-23 label.sk-toggleable__label-arrow:before {content: \"▸\";float: left;margin-right: 0.25em;color: #696969;}#sk-container-id-23 label.sk-toggleable__label-arrow:hover:before {color: black;}#sk-container-id-23 div.sk-estimator:hover label.sk-toggleable__label-arrow:before {color: black;}#sk-container-id-23 div.sk-toggleable__content {max-height: 0;max-width: 0;overflow: hidden;text-align: left;background-color: #f0f8ff;}#sk-container-id-23 div.sk-toggleable__content pre {margin: 0.2em;color: black;border-radius: 0.25em;background-color: #f0f8ff;}#sk-container-id-23 input.sk-toggleable__control:checked~div.sk-toggleable__content {max-height: 200px;max-width: 100%;overflow: auto;}#sk-container-id-23 input.sk-toggleable__control:checked~label.sk-toggleable__label-arrow:before {content: \"▾\";}#sk-container-id-23 div.sk-estimator input.sk-toggleable__control:checked~label.sk-toggleable__label {background-color: #d4ebff;}#sk-container-id-23 div.sk-label input.sk-toggleable__control:checked~label.sk-toggleable__label {background-color: #d4ebff;}#sk-container-id-23 input.sk-hidden--visually {border: 0;clip: rect(1px 1px 1px 1px);clip: rect(1px, 1px, 1px, 1px);height: 1px;margin: -1px;overflow: hidden;padding: 0;position: absolute;width: 1px;}#sk-container-id-23 div.sk-estimator {font-family: monospace;background-color: #f0f8ff;border: 1px dotted black;border-radius: 0.25em;box-sizing: border-box;margin-bottom: 0.5em;}#sk-container-id-23 div.sk-estimator:hover {background-color: #d4ebff;}#sk-container-id-23 div.sk-parallel-item::after {content: \"\";width: 100%;border-bottom: 1px solid gray;flex-grow: 1;}#sk-container-id-23 div.sk-label:hover label.sk-toggleable__label {background-color: #d4ebff;}#sk-container-id-23 div.sk-serial::before {content: \"\";position: absolute;border-left: 1px solid gray;box-sizing: border-box;top: 0;bottom: 0;left: 50%;z-index: 0;}#sk-container-id-23 div.sk-serial {display: flex;flex-direction: column;align-items: center;background-color: white;padding-right: 0.2em;padding-left: 0.2em;position: relative;}#sk-container-id-23 div.sk-item {position: relative;z-index: 1;}#sk-container-id-23 div.sk-parallel {display: flex;align-items: stretch;justify-content: center;background-color: white;position: relative;}#sk-container-id-23 div.sk-item::before, #sk-container-id-23 div.sk-parallel-item::before {content: \"\";position: absolute;border-left: 1px solid gray;box-sizing: border-box;top: 0;bottom: 0;left: 50%;z-index: -1;}#sk-container-id-23 div.sk-parallel-item {display: flex;flex-direction: column;z-index: 1;position: relative;background-color: white;}#sk-container-id-23 div.sk-parallel-item:first-child::after {align-self: flex-end;width: 50%;}#sk-container-id-23 div.sk-parallel-item:last-child::after {align-self: flex-start;width: 50%;}#sk-container-id-23 div.sk-parallel-item:only-child::after {width: 0;}#sk-container-id-23 div.sk-dashed-wrapped {border: 1px dashed gray;margin: 0 0.4em 0.5em 0.4em;box-sizing: border-box;padding-bottom: 0.4em;background-color: white;}#sk-container-id-23 div.sk-label label {font-family: monospace;font-weight: bold;display: inline-block;line-height: 1.2em;}#sk-container-id-23 div.sk-label-container {text-align: center;}#sk-container-id-23 div.sk-container {/* jupyter's `normalize.less` sets `[hidden] { display: none; }` but bootstrap.min.css set `[hidden] { display: none !important; }` so we also need the `!important` here to be able to override the default hidden behavior on the sphinx rendered scikit-learn.org. See: https://github.com/scikit-learn/scikit-learn/issues/21755 */display: inline-block !important;position: relative;}#sk-container-id-23 div.sk-text-repr-fallback {display: none;}</style><div id=\"sk-container-id-23\" class=\"sk-top-container\"><div class=\"sk-text-repr-fallback\"><pre>GridSearchCV(cv=5,\n",
       "             estimator=Pipeline(steps=[(&#x27;preprocessor&#x27;,\n",
       "                                        ColumnTransformer(transformers=[(&#x27;num&#x27;,\n",
       "                                                                         StandardScaler(),\n",
       "                                                                         [&#x27;year&#x27;,\n",
       "                                                                          &#x27;odometer&#x27;]),\n",
       "                                                                        (&#x27;cat&#x27;,\n",
       "                                                                         OneHotEncoder(drop=&#x27;first&#x27;,\n",
       "                                                                                       sparse_output=False),\n",
       "                                                                         [&#x27;fuel&#x27;,\n",
       "                                                                          &#x27;title_status&#x27;,\n",
       "                                                                          &#x27;transmission&#x27;])])),\n",
       "                                       (&#x27;lasso&#x27;, Lasso())]),\n",
       "             param_grid={&#x27;lasso__alpha&#x27;: [0.001, 0.01, 0.1, 1.0, 10.0]},\n",
       "             scoring=&#x27;neg_mean_squared_error&#x27;)</pre><b>In a Jupyter environment, please rerun this cell to show the HTML representation or trust the notebook. <br />On GitHub, the HTML representation is unable to render, please try loading this page with nbviewer.org.</b></div><div class=\"sk-container\" hidden><div class=\"sk-item sk-dashed-wrapped\"><div class=\"sk-label-container\"><div class=\"sk-label sk-toggleable\"><input class=\"sk-toggleable__control sk-hidden--visually\" id=\"sk-estimator-id-235\" type=\"checkbox\" ><label for=\"sk-estimator-id-235\" class=\"sk-toggleable__label sk-toggleable__label-arrow\">GridSearchCV</label><div class=\"sk-toggleable__content\"><pre>GridSearchCV(cv=5,\n",
       "             estimator=Pipeline(steps=[(&#x27;preprocessor&#x27;,\n",
       "                                        ColumnTransformer(transformers=[(&#x27;num&#x27;,\n",
       "                                                                         StandardScaler(),\n",
       "                                                                         [&#x27;year&#x27;,\n",
       "                                                                          &#x27;odometer&#x27;]),\n",
       "                                                                        (&#x27;cat&#x27;,\n",
       "                                                                         OneHotEncoder(drop=&#x27;first&#x27;,\n",
       "                                                                                       sparse_output=False),\n",
       "                                                                         [&#x27;fuel&#x27;,\n",
       "                                                                          &#x27;title_status&#x27;,\n",
       "                                                                          &#x27;transmission&#x27;])])),\n",
       "                                       (&#x27;lasso&#x27;, Lasso())]),\n",
       "             param_grid={&#x27;lasso__alpha&#x27;: [0.001, 0.01, 0.1, 1.0, 10.0]},\n",
       "             scoring=&#x27;neg_mean_squared_error&#x27;)</pre></div></div></div><div class=\"sk-parallel\"><div class=\"sk-parallel-item\"><div class=\"sk-item\"><div class=\"sk-label-container\"><div class=\"sk-label sk-toggleable\"><input class=\"sk-toggleable__control sk-hidden--visually\" id=\"sk-estimator-id-236\" type=\"checkbox\" ><label for=\"sk-estimator-id-236\" class=\"sk-toggleable__label sk-toggleable__label-arrow\">estimator: Pipeline</label><div class=\"sk-toggleable__content\"><pre>Pipeline(steps=[(&#x27;preprocessor&#x27;,\n",
       "                 ColumnTransformer(transformers=[(&#x27;num&#x27;, StandardScaler(),\n",
       "                                                  [&#x27;year&#x27;, &#x27;odometer&#x27;]),\n",
       "                                                 (&#x27;cat&#x27;,\n",
       "                                                  OneHotEncoder(drop=&#x27;first&#x27;,\n",
       "                                                                sparse_output=False),\n",
       "                                                  [&#x27;fuel&#x27;, &#x27;title_status&#x27;,\n",
       "                                                   &#x27;transmission&#x27;])])),\n",
       "                (&#x27;lasso&#x27;, Lasso())])</pre></div></div></div><div class=\"sk-serial\"><div class=\"sk-item\"><div class=\"sk-serial\"><div class=\"sk-item sk-dashed-wrapped\"><div class=\"sk-label-container\"><div class=\"sk-label sk-toggleable\"><input class=\"sk-toggleable__control sk-hidden--visually\" id=\"sk-estimator-id-237\" type=\"checkbox\" ><label for=\"sk-estimator-id-237\" class=\"sk-toggleable__label sk-toggleable__label-arrow\">preprocessor: ColumnTransformer</label><div class=\"sk-toggleable__content\"><pre>ColumnTransformer(transformers=[(&#x27;num&#x27;, StandardScaler(), [&#x27;year&#x27;, &#x27;odometer&#x27;]),\n",
       "                                (&#x27;cat&#x27;,\n",
       "                                 OneHotEncoder(drop=&#x27;first&#x27;,\n",
       "                                               sparse_output=False),\n",
       "                                 [&#x27;fuel&#x27;, &#x27;title_status&#x27;, &#x27;transmission&#x27;])])</pre></div></div></div><div class=\"sk-parallel\"><div class=\"sk-parallel-item\"><div class=\"sk-item\"><div class=\"sk-label-container\"><div class=\"sk-label sk-toggleable\"><input class=\"sk-toggleable__control sk-hidden--visually\" id=\"sk-estimator-id-238\" type=\"checkbox\" ><label for=\"sk-estimator-id-238\" class=\"sk-toggleable__label sk-toggleable__label-arrow\">num</label><div class=\"sk-toggleable__content\"><pre>[&#x27;year&#x27;, &#x27;odometer&#x27;]</pre></div></div></div><div class=\"sk-serial\"><div class=\"sk-item\"><div class=\"sk-estimator sk-toggleable\"><input class=\"sk-toggleable__control sk-hidden--visually\" id=\"sk-estimator-id-239\" type=\"checkbox\" ><label for=\"sk-estimator-id-239\" class=\"sk-toggleable__label sk-toggleable__label-arrow\">StandardScaler</label><div class=\"sk-toggleable__content\"><pre>StandardScaler()</pre></div></div></div></div></div></div><div class=\"sk-parallel-item\"><div class=\"sk-item\"><div class=\"sk-label-container\"><div class=\"sk-label sk-toggleable\"><input class=\"sk-toggleable__control sk-hidden--visually\" id=\"sk-estimator-id-240\" type=\"checkbox\" ><label for=\"sk-estimator-id-240\" class=\"sk-toggleable__label sk-toggleable__label-arrow\">cat</label><div class=\"sk-toggleable__content\"><pre>[&#x27;fuel&#x27;, &#x27;title_status&#x27;, &#x27;transmission&#x27;]</pre></div></div></div><div class=\"sk-serial\"><div class=\"sk-item\"><div class=\"sk-estimator sk-toggleable\"><input class=\"sk-toggleable__control sk-hidden--visually\" id=\"sk-estimator-id-241\" type=\"checkbox\" ><label for=\"sk-estimator-id-241\" class=\"sk-toggleable__label sk-toggleable__label-arrow\">OneHotEncoder</label><div class=\"sk-toggleable__content\"><pre>OneHotEncoder(drop=&#x27;first&#x27;, sparse_output=False)</pre></div></div></div></div></div></div></div></div><div class=\"sk-item\"><div class=\"sk-estimator sk-toggleable\"><input class=\"sk-toggleable__control sk-hidden--visually\" id=\"sk-estimator-id-242\" type=\"checkbox\" ><label for=\"sk-estimator-id-242\" class=\"sk-toggleable__label sk-toggleable__label-arrow\">Lasso</label><div class=\"sk-toggleable__content\"><pre>Lasso()</pre></div></div></div></div></div></div></div></div></div></div></div></div>"
      ],
      "text/plain": [
       "GridSearchCV(cv=5,\n",
       "             estimator=Pipeline(steps=[('preprocessor',\n",
       "                                        ColumnTransformer(transformers=[('num',\n",
       "                                                                         StandardScaler(),\n",
       "                                                                         ['year',\n",
       "                                                                          'odometer']),\n",
       "                                                                        ('cat',\n",
       "                                                                         OneHotEncoder(drop='first',\n",
       "                                                                                       sparse_output=False),\n",
       "                                                                         ['fuel',\n",
       "                                                                          'title_status',\n",
       "                                                                          'transmission'])])),\n",
       "                                       ('lasso', Lasso())]),\n",
       "             param_grid={'lasso__alpha': [0.001, 0.01, 0.1, 1.0, 10.0]},\n",
       "             scoring='neg_mean_squared_error')"
      ]
     },
     "execution_count": 473,
     "metadata": {},
     "output_type": "execute_result"
    }
   ],
   "source": [
    "# Used grid search to find the best hyperparameter\n",
    "param_grid = {\n",
    "    'lasso__alpha': [0.001, 0.01, 0.1, 1.0, 10.0]\n",
    "}\n",
    "\n",
    "grid_search = GridSearchCV(lasso_pipe, param_grid, scoring='neg_mean_squared_error', cv=5)\n",
    "grid_search.fit(X_train, y_train)"
   ]
  },
  {
   "cell_type": "code",
   "execution_count": 474,
   "metadata": {
    "tags": []
   },
   "outputs": [
    {
     "name": "stdout",
     "output_type": "stream",
     "text": [
      "Pipeline(steps=[('preprocessor',\n",
      "                 ColumnTransformer(transformers=[('num', StandardScaler(),\n",
      "                                                  ['year', 'odometer']),\n",
      "                                                 ('cat',\n",
      "                                                  OneHotEncoder(drop='first',\n",
      "                                                                sparse_output=False),\n",
      "                                                  ['fuel', 'title_status',\n",
      "                                                   'transmission'])])),\n",
      "                ('lasso', Lasso(alpha=0.001))])\n"
     ]
    }
   ],
   "source": [
    "best_lasso_model = grid_search.best_estimator_\n",
    "print(best_lasso_model)\n",
    "# Evaluate the best model on the test set\n",
    "y_pred = best_lasso_model.predict(X_test)"
   ]
  },
  {
   "cell_type": "code",
   "execution_count": 475,
   "metadata": {
    "tags": []
   },
   "outputs": [],
   "source": [
    "best_lasso_model = grid_search.best_estimator_\n",
    "lasso_train_preds = best_lasso_model.predict(X_train)\n",
    "lasso_test_preds = best_lasso_model.predict(X_test)\n",
    "lasso_train_mse = mean_squared_error(y_train, lasso_train_preds)\n",
    "lasso_test_mse = mean_squared_error(y_test, y_pred)"
   ]
  },
  {
   "cell_type": "code",
   "execution_count": 476,
   "metadata": {
    "tags": []
   },
   "outputs": [
    {
     "name": "stdout",
     "output_type": "stream",
     "text": [
      "Best Alpha: 0.001\n",
      "Lasso Train MSE: 110303652.52078378\n",
      "Lasst Test MSE: 111029452.4952541\n"
     ]
    }
   ],
   "source": [
    "best_alpha = grid_search.best_params_['lasso__alpha']\n",
    "print(f'Best Alpha: {best_alpha}')\n",
    "print(f'Lasso Train MSE: {lasso_train_mse}')\n",
    "print(f'Lasst Test MSE: {lasso_test_mse}')"
   ]
  },
  {
   "cell_type": "code",
   "execution_count": 477,
   "metadata": {
    "tags": []
   },
   "outputs": [
    {
     "data": {
      "text/plain": [
       "array([  4224.90384814,  -2697.47416937, -12150.46264617, -12417.38379563,\n",
       "       -15116.75421731, -11111.01981986,   3592.90457448,  -5214.08757935,\n",
       "        -6426.66033149,  -3606.71473925,  -4433.25291044,    778.26327662,\n",
       "         6556.43642358])"
      ]
     },
     "execution_count": 477,
     "metadata": {},
     "output_type": "execute_result"
    }
   ],
   "source": [
    "lasso_model = best_lasso_model.named_steps['lasso']\n",
    "non_zero_coefs = lasso_model.coef_\n",
    "non_zero_coefs\n"
   ]
  },
  {
   "cell_type": "code",
   "execution_count": 407,
   "metadata": {
    "tags": []
   },
   "outputs": [
    {
     "data": {
      "text/plain": [
       "[('num', StandardScaler(), ['year', 'odometer']),\n",
       " ('cat',\n",
       "  OneHotEncoder(drop='first', sparse_output=False),\n",
       "  ['fuel', 'title_status', 'transmission'])]"
      ]
     },
     "execution_count": 407,
     "metadata": {},
     "output_type": "execute_result"
    }
   ],
   "source": [
    "grid_search.best_estimator_.named_steps['preprocessor'].transformers_"
   ]
  },
  {
   "cell_type": "code",
   "execution_count": 478,
   "metadata": {
    "tags": []
   },
   "outputs": [
    {
     "name": "stdout",
     "output_type": "stream",
     "text": [
      "Selected Features from Lasso: \n",
      "['year', 'odometer', 'fuel_electric', 'fuel_gas', 'fuel_hybrid', 'fuel_other', 'title_status_lien', 'title_status_missing', 'title_status_parts only', 'title_status_rebuilt', 'title_status_salvage', 'transmission_manual', 'transmission_other']\n"
     ]
    }
   ],
   "source": [
    "selected_features = (numerical_cols +\n",
    "                 list(grid_search.best_estimator_.named_steps['preprocessor'].named_transformers_['cat'].get_feature_names_out(categorical_cols)))\n",
    "print(\"Selected Features from Lasso: \")\n",
    "print(selected_features)\n",
    "\n"
   ]
  },
  {
   "cell_type": "code",
   "execution_count": 480,
   "metadata": {
    "tags": []
   },
   "outputs": [
    {
     "data": {
      "text/html": [
       "<div>\n",
       "<style scoped>\n",
       "    .dataframe tbody tr th:only-of-type {\n",
       "        vertical-align: middle;\n",
       "    }\n",
       "\n",
       "    .dataframe tbody tr th {\n",
       "        vertical-align: top;\n",
       "    }\n",
       "\n",
       "    .dataframe thead th {\n",
       "        text-align: right;\n",
       "    }\n",
       "</style>\n",
       "<table border=\"1\" class=\"dataframe\">\n",
       "  <thead>\n",
       "    <tr style=\"text-align: right;\">\n",
       "      <th></th>\n",
       "      <th>SelectedFeatures</th>\n",
       "      <th>Co-eff</th>\n",
       "    </tr>\n",
       "  </thead>\n",
       "  <tbody>\n",
       "    <tr>\n",
       "      <th>0</th>\n",
       "      <td>year</td>\n",
       "      <td>4224.903848</td>\n",
       "    </tr>\n",
       "    <tr>\n",
       "      <th>1</th>\n",
       "      <td>odometer</td>\n",
       "      <td>-2697.474169</td>\n",
       "    </tr>\n",
       "    <tr>\n",
       "      <th>2</th>\n",
       "      <td>fuel_electric</td>\n",
       "      <td>-12150.462646</td>\n",
       "    </tr>\n",
       "    <tr>\n",
       "      <th>3</th>\n",
       "      <td>fuel_gas</td>\n",
       "      <td>-12417.383796</td>\n",
       "    </tr>\n",
       "    <tr>\n",
       "      <th>4</th>\n",
       "      <td>fuel_hybrid</td>\n",
       "      <td>-15116.754217</td>\n",
       "    </tr>\n",
       "    <tr>\n",
       "      <th>5</th>\n",
       "      <td>fuel_other</td>\n",
       "      <td>-11111.019820</td>\n",
       "    </tr>\n",
       "    <tr>\n",
       "      <th>6</th>\n",
       "      <td>title_status_lien</td>\n",
       "      <td>3592.904574</td>\n",
       "    </tr>\n",
       "    <tr>\n",
       "      <th>7</th>\n",
       "      <td>title_status_missing</td>\n",
       "      <td>-5214.087579</td>\n",
       "    </tr>\n",
       "    <tr>\n",
       "      <th>8</th>\n",
       "      <td>title_status_parts only</td>\n",
       "      <td>-6426.660331</td>\n",
       "    </tr>\n",
       "    <tr>\n",
       "      <th>9</th>\n",
       "      <td>title_status_rebuilt</td>\n",
       "      <td>-3606.714739</td>\n",
       "    </tr>\n",
       "    <tr>\n",
       "      <th>10</th>\n",
       "      <td>title_status_salvage</td>\n",
       "      <td>-4433.252910</td>\n",
       "    </tr>\n",
       "    <tr>\n",
       "      <th>11</th>\n",
       "      <td>transmission_manual</td>\n",
       "      <td>778.263277</td>\n",
       "    </tr>\n",
       "    <tr>\n",
       "      <th>12</th>\n",
       "      <td>transmission_other</td>\n",
       "      <td>6556.436424</td>\n",
       "    </tr>\n",
       "  </tbody>\n",
       "</table>\n",
       "</div>"
      ],
      "text/plain": [
       "           SelectedFeatures        Co-eff\n",
       "0                      year   4224.903848\n",
       "1                  odometer  -2697.474169\n",
       "2             fuel_electric -12150.462646\n",
       "3                  fuel_gas -12417.383796\n",
       "4               fuel_hybrid -15116.754217\n",
       "5                fuel_other -11111.019820\n",
       "6         title_status_lien   3592.904574\n",
       "7      title_status_missing  -5214.087579\n",
       "8   title_status_parts only  -6426.660331\n",
       "9      title_status_rebuilt  -3606.714739\n",
       "10     title_status_salvage  -4433.252910\n",
       "11      transmission_manual    778.263277\n",
       "12       transmission_other   6556.436424"
      ]
     },
     "execution_count": 480,
     "metadata": {},
     "output_type": "execute_result"
    }
   ],
   "source": [
    "lasso_features = pd.DataFrame({\"SelectedFeatures\": selected_features, 'Co-eff': non_zero_coefs})\n",
    "lasso_features"
   ]
  },
  {
   "cell_type": "markdown",
   "metadata": {},
   "source": [
    "#### Lasso model above suggests latest model cars,car titles with lien and cars with manual transmission are expensive.Cars with higher odometer reading ,Cars with all fuel types, cars with missing titles,cars that are salvaged,rebuilt and missing parts are inexpensive. The best hyperparameter was 0.001 but the MSE was on higher side. Hence decided to build a ridge regression model"
   ]
  },
  {
   "cell_type": "code",
   "execution_count": 547,
   "metadata": {
    "tags": []
   },
   "outputs": [],
   "source": [
    "# Split the data into train and test\n",
    "X = cars_df.drop('price', axis = 1)\n",
    "y = cars_df['price']\n",
    "X_train, X_test, y_train, y_test = train_test_split(X, y, test_size=0.3, random_state=42)\n",
    "categorical_cols = ['fuel', 'title_status', 'transmission', 'manufacturer']\n",
    "numerical_cols = ['year', 'odometer']"
   ]
  },
  {
   "cell_type": "code",
   "execution_count": 548,
   "metadata": {
    "tags": []
   },
   "outputs": [],
   "source": [
    "# Transform the variables. Standardize the target variable using log, the numeric feature using scalar and catagorical variables using One Hot Encoder\n",
    "y_log = np.log1p(y)\n",
    "numeric_transformer = StandardScaler()\n",
    "categorical_transformer = OneHotEncoder(drop='first', sparse_output=False,handle_unknown='ignore')"
   ]
  },
  {
   "cell_type": "code",
   "execution_count": 549,
   "metadata": {
    "tags": []
   },
   "outputs": [],
   "source": [
    "preprocessor = ColumnTransformer(\n",
    "    transformers=[\n",
    "        ('num', numeric_transformer, numerical_cols),\n",
    "        ('cat', categorical_transformer, categorical_cols)\n",
    "    ]\n",
    ")\n",
    "\n",
    "ridge_model = TransformedTargetRegressor(\n",
    "    regressor=Ridge(),\n",
    "    transformer=StandardScaler()\n",
    ")\n",
    "\n",
    "pipeline = Pipeline([\n",
    "    ('preprocessor', preprocessor),\n",
    "    ('ridge_model', ridge_model)\n",
    "])"
   ]
  },
  {
   "cell_type": "code",
   "execution_count": 550,
   "metadata": {
    "tags": []
   },
   "outputs": [
    {
     "name": "stderr",
     "output_type": "stream",
     "text": [
      "C:\\Users\\m_shanmugavel\\AppData\\Local\\anaconda3\\Lib\\site-packages\\sklearn\\preprocessing\\_encoders.py:227: UserWarning:\n",
      "\n",
      "Found unknown categories in columns [3] during transform. These unknown categories will be encoded as all zeros\n",
      "\n",
      "C:\\Users\\m_shanmugavel\\AppData\\Local\\anaconda3\\Lib\\site-packages\\sklearn\\preprocessing\\_encoders.py:227: UserWarning:\n",
      "\n",
      "Found unknown categories in columns [3] during transform. These unknown categories will be encoded as all zeros\n",
      "\n",
      "C:\\Users\\m_shanmugavel\\AppData\\Local\\anaconda3\\Lib\\site-packages\\sklearn\\preprocessing\\_encoders.py:227: UserWarning:\n",
      "\n",
      "Found unknown categories in columns [3] during transform. These unknown categories will be encoded as all zeros\n",
      "\n",
      "C:\\Users\\m_shanmugavel\\AppData\\Local\\anaconda3\\Lib\\site-packages\\sklearn\\preprocessing\\_encoders.py:227: UserWarning:\n",
      "\n",
      "Found unknown categories in columns [3] during transform. These unknown categories will be encoded as all zeros\n",
      "\n",
      "C:\\Users\\m_shanmugavel\\AppData\\Local\\anaconda3\\Lib\\site-packages\\sklearn\\preprocessing\\_encoders.py:227: UserWarning:\n",
      "\n",
      "Found unknown categories in columns [3] during transform. These unknown categories will be encoded as all zeros\n",
      "\n"
     ]
    },
    {
     "data": {
      "text/html": [
       "<style>#sk-container-id-29 {color: black;}#sk-container-id-29 pre{padding: 0;}#sk-container-id-29 div.sk-toggleable {background-color: white;}#sk-container-id-29 label.sk-toggleable__label {cursor: pointer;display: block;width: 100%;margin-bottom: 0;padding: 0.3em;box-sizing: border-box;text-align: center;}#sk-container-id-29 label.sk-toggleable__label-arrow:before {content: \"▸\";float: left;margin-right: 0.25em;color: #696969;}#sk-container-id-29 label.sk-toggleable__label-arrow:hover:before {color: black;}#sk-container-id-29 div.sk-estimator:hover label.sk-toggleable__label-arrow:before {color: black;}#sk-container-id-29 div.sk-toggleable__content {max-height: 0;max-width: 0;overflow: hidden;text-align: left;background-color: #f0f8ff;}#sk-container-id-29 div.sk-toggleable__content pre {margin: 0.2em;color: black;border-radius: 0.25em;background-color: #f0f8ff;}#sk-container-id-29 input.sk-toggleable__control:checked~div.sk-toggleable__content {max-height: 200px;max-width: 100%;overflow: auto;}#sk-container-id-29 input.sk-toggleable__control:checked~label.sk-toggleable__label-arrow:before {content: \"▾\";}#sk-container-id-29 div.sk-estimator input.sk-toggleable__control:checked~label.sk-toggleable__label {background-color: #d4ebff;}#sk-container-id-29 div.sk-label input.sk-toggleable__control:checked~label.sk-toggleable__label {background-color: #d4ebff;}#sk-container-id-29 input.sk-hidden--visually {border: 0;clip: rect(1px 1px 1px 1px);clip: rect(1px, 1px, 1px, 1px);height: 1px;margin: -1px;overflow: hidden;padding: 0;position: absolute;width: 1px;}#sk-container-id-29 div.sk-estimator {font-family: monospace;background-color: #f0f8ff;border: 1px dotted black;border-radius: 0.25em;box-sizing: border-box;margin-bottom: 0.5em;}#sk-container-id-29 div.sk-estimator:hover {background-color: #d4ebff;}#sk-container-id-29 div.sk-parallel-item::after {content: \"\";width: 100%;border-bottom: 1px solid gray;flex-grow: 1;}#sk-container-id-29 div.sk-label:hover label.sk-toggleable__label {background-color: #d4ebff;}#sk-container-id-29 div.sk-serial::before {content: \"\";position: absolute;border-left: 1px solid gray;box-sizing: border-box;top: 0;bottom: 0;left: 50%;z-index: 0;}#sk-container-id-29 div.sk-serial {display: flex;flex-direction: column;align-items: center;background-color: white;padding-right: 0.2em;padding-left: 0.2em;position: relative;}#sk-container-id-29 div.sk-item {position: relative;z-index: 1;}#sk-container-id-29 div.sk-parallel {display: flex;align-items: stretch;justify-content: center;background-color: white;position: relative;}#sk-container-id-29 div.sk-item::before, #sk-container-id-29 div.sk-parallel-item::before {content: \"\";position: absolute;border-left: 1px solid gray;box-sizing: border-box;top: 0;bottom: 0;left: 50%;z-index: -1;}#sk-container-id-29 div.sk-parallel-item {display: flex;flex-direction: column;z-index: 1;position: relative;background-color: white;}#sk-container-id-29 div.sk-parallel-item:first-child::after {align-self: flex-end;width: 50%;}#sk-container-id-29 div.sk-parallel-item:last-child::after {align-self: flex-start;width: 50%;}#sk-container-id-29 div.sk-parallel-item:only-child::after {width: 0;}#sk-container-id-29 div.sk-dashed-wrapped {border: 1px dashed gray;margin: 0 0.4em 0.5em 0.4em;box-sizing: border-box;padding-bottom: 0.4em;background-color: white;}#sk-container-id-29 div.sk-label label {font-family: monospace;font-weight: bold;display: inline-block;line-height: 1.2em;}#sk-container-id-29 div.sk-label-container {text-align: center;}#sk-container-id-29 div.sk-container {/* jupyter's `normalize.less` sets `[hidden] { display: none; }` but bootstrap.min.css set `[hidden] { display: none !important; }` so we also need the `!important` here to be able to override the default hidden behavior on the sphinx rendered scikit-learn.org. See: https://github.com/scikit-learn/scikit-learn/issues/21755 */display: inline-block !important;position: relative;}#sk-container-id-29 div.sk-text-repr-fallback {display: none;}</style><div id=\"sk-container-id-29\" class=\"sk-top-container\"><div class=\"sk-text-repr-fallback\"><pre>GridSearchCV(cv=5,\n",
       "             estimator=Pipeline(steps=[(&#x27;preprocessor&#x27;,\n",
       "                                        ColumnTransformer(transformers=[(&#x27;num&#x27;,\n",
       "                                                                         StandardScaler(),\n",
       "                                                                         [&#x27;year&#x27;,\n",
       "                                                                          &#x27;odometer&#x27;]),\n",
       "                                                                        (&#x27;cat&#x27;,\n",
       "                                                                         OneHotEncoder(drop=&#x27;first&#x27;,\n",
       "                                                                                       handle_unknown=&#x27;ignore&#x27;,\n",
       "                                                                                       sparse_output=False),\n",
       "                                                                         [&#x27;fuel&#x27;,\n",
       "                                                                          &#x27;title_status&#x27;,\n",
       "                                                                          &#x27;transmission&#x27;,\n",
       "                                                                          &#x27;manufacturer&#x27;])])),\n",
       "                                       (&#x27;ridge_model&#x27;,\n",
       "                                        TransformedTargetRegressor(regressor=Ridge(),\n",
       "                                                                   transformer=StandardScaler()))]),\n",
       "             param_grid={&#x27;ridge_model__regressor__alpha&#x27;: [0.001, 0.01, 0.1,\n",
       "                                                           1.0, 10.0]},\n",
       "             scoring=&#x27;neg_mean_squared_error&#x27;)</pre><b>In a Jupyter environment, please rerun this cell to show the HTML representation or trust the notebook. <br />On GitHub, the HTML representation is unable to render, please try loading this page with nbviewer.org.</b></div><div class=\"sk-container\" hidden><div class=\"sk-item sk-dashed-wrapped\"><div class=\"sk-label-container\"><div class=\"sk-label sk-toggleable\"><input class=\"sk-toggleable__control sk-hidden--visually\" id=\"sk-estimator-id-303\" type=\"checkbox\" ><label for=\"sk-estimator-id-303\" class=\"sk-toggleable__label sk-toggleable__label-arrow\">GridSearchCV</label><div class=\"sk-toggleable__content\"><pre>GridSearchCV(cv=5,\n",
       "             estimator=Pipeline(steps=[(&#x27;preprocessor&#x27;,\n",
       "                                        ColumnTransformer(transformers=[(&#x27;num&#x27;,\n",
       "                                                                         StandardScaler(),\n",
       "                                                                         [&#x27;year&#x27;,\n",
       "                                                                          &#x27;odometer&#x27;]),\n",
       "                                                                        (&#x27;cat&#x27;,\n",
       "                                                                         OneHotEncoder(drop=&#x27;first&#x27;,\n",
       "                                                                                       handle_unknown=&#x27;ignore&#x27;,\n",
       "                                                                                       sparse_output=False),\n",
       "                                                                         [&#x27;fuel&#x27;,\n",
       "                                                                          &#x27;title_status&#x27;,\n",
       "                                                                          &#x27;transmission&#x27;,\n",
       "                                                                          &#x27;manufacturer&#x27;])])),\n",
       "                                       (&#x27;ridge_model&#x27;,\n",
       "                                        TransformedTargetRegressor(regressor=Ridge(),\n",
       "                                                                   transformer=StandardScaler()))]),\n",
       "             param_grid={&#x27;ridge_model__regressor__alpha&#x27;: [0.001, 0.01, 0.1,\n",
       "                                                           1.0, 10.0]},\n",
       "             scoring=&#x27;neg_mean_squared_error&#x27;)</pre></div></div></div><div class=\"sk-parallel\"><div class=\"sk-parallel-item\"><div class=\"sk-item\"><div class=\"sk-label-container\"><div class=\"sk-label sk-toggleable\"><input class=\"sk-toggleable__control sk-hidden--visually\" id=\"sk-estimator-id-304\" type=\"checkbox\" ><label for=\"sk-estimator-id-304\" class=\"sk-toggleable__label sk-toggleable__label-arrow\">estimator: Pipeline</label><div class=\"sk-toggleable__content\"><pre>Pipeline(steps=[(&#x27;preprocessor&#x27;,\n",
       "                 ColumnTransformer(transformers=[(&#x27;num&#x27;, StandardScaler(),\n",
       "                                                  [&#x27;year&#x27;, &#x27;odometer&#x27;]),\n",
       "                                                 (&#x27;cat&#x27;,\n",
       "                                                  OneHotEncoder(drop=&#x27;first&#x27;,\n",
       "                                                                handle_unknown=&#x27;ignore&#x27;,\n",
       "                                                                sparse_output=False),\n",
       "                                                  [&#x27;fuel&#x27;, &#x27;title_status&#x27;,\n",
       "                                                   &#x27;transmission&#x27;,\n",
       "                                                   &#x27;manufacturer&#x27;])])),\n",
       "                (&#x27;ridge_model&#x27;,\n",
       "                 TransformedTargetRegressor(regressor=Ridge(),\n",
       "                                            transformer=StandardScaler()))])</pre></div></div></div><div class=\"sk-serial\"><div class=\"sk-item\"><div class=\"sk-serial\"><div class=\"sk-item sk-dashed-wrapped\"><div class=\"sk-label-container\"><div class=\"sk-label sk-toggleable\"><input class=\"sk-toggleable__control sk-hidden--visually\" id=\"sk-estimator-id-305\" type=\"checkbox\" ><label for=\"sk-estimator-id-305\" class=\"sk-toggleable__label sk-toggleable__label-arrow\">preprocessor: ColumnTransformer</label><div class=\"sk-toggleable__content\"><pre>ColumnTransformer(transformers=[(&#x27;num&#x27;, StandardScaler(), [&#x27;year&#x27;, &#x27;odometer&#x27;]),\n",
       "                                (&#x27;cat&#x27;,\n",
       "                                 OneHotEncoder(drop=&#x27;first&#x27;,\n",
       "                                               handle_unknown=&#x27;ignore&#x27;,\n",
       "                                               sparse_output=False),\n",
       "                                 [&#x27;fuel&#x27;, &#x27;title_status&#x27;, &#x27;transmission&#x27;,\n",
       "                                  &#x27;manufacturer&#x27;])])</pre></div></div></div><div class=\"sk-parallel\"><div class=\"sk-parallel-item\"><div class=\"sk-item\"><div class=\"sk-label-container\"><div class=\"sk-label sk-toggleable\"><input class=\"sk-toggleable__control sk-hidden--visually\" id=\"sk-estimator-id-306\" type=\"checkbox\" ><label for=\"sk-estimator-id-306\" class=\"sk-toggleable__label sk-toggleable__label-arrow\">num</label><div class=\"sk-toggleable__content\"><pre>[&#x27;year&#x27;, &#x27;odometer&#x27;]</pre></div></div></div><div class=\"sk-serial\"><div class=\"sk-item\"><div class=\"sk-estimator sk-toggleable\"><input class=\"sk-toggleable__control sk-hidden--visually\" id=\"sk-estimator-id-307\" type=\"checkbox\" ><label for=\"sk-estimator-id-307\" class=\"sk-toggleable__label sk-toggleable__label-arrow\">StandardScaler</label><div class=\"sk-toggleable__content\"><pre>StandardScaler()</pre></div></div></div></div></div></div><div class=\"sk-parallel-item\"><div class=\"sk-item\"><div class=\"sk-label-container\"><div class=\"sk-label sk-toggleable\"><input class=\"sk-toggleable__control sk-hidden--visually\" id=\"sk-estimator-id-308\" type=\"checkbox\" ><label for=\"sk-estimator-id-308\" class=\"sk-toggleable__label sk-toggleable__label-arrow\">cat</label><div class=\"sk-toggleable__content\"><pre>[&#x27;fuel&#x27;, &#x27;title_status&#x27;, &#x27;transmission&#x27;, &#x27;manufacturer&#x27;]</pre></div></div></div><div class=\"sk-serial\"><div class=\"sk-item\"><div class=\"sk-estimator sk-toggleable\"><input class=\"sk-toggleable__control sk-hidden--visually\" id=\"sk-estimator-id-309\" type=\"checkbox\" ><label for=\"sk-estimator-id-309\" class=\"sk-toggleable__label sk-toggleable__label-arrow\">OneHotEncoder</label><div class=\"sk-toggleable__content\"><pre>OneHotEncoder(drop=&#x27;first&#x27;, handle_unknown=&#x27;ignore&#x27;, sparse_output=False)</pre></div></div></div></div></div></div></div></div><div class=\"sk-item sk-dashed-wrapped\"><div class=\"sk-label-container\"><div class=\"sk-label sk-toggleable\"><input class=\"sk-toggleable__control sk-hidden--visually\" id=\"sk-estimator-id-310\" type=\"checkbox\" ><label for=\"sk-estimator-id-310\" class=\"sk-toggleable__label sk-toggleable__label-arrow\">ridge_model: TransformedTargetRegressor</label><div class=\"sk-toggleable__content\"><pre>TransformedTargetRegressor(regressor=Ridge(), transformer=StandardScaler())</pre></div></div></div><div class=\"sk-parallel\"><div class=\"sk-parallel-item\"><div class=\"sk-item\"><div class=\"sk-label-container\"><div class=\"sk-label sk-toggleable\"><input class=\"sk-toggleable__control sk-hidden--visually\" id=\"sk-estimator-id-311\" type=\"checkbox\" ><label for=\"sk-estimator-id-311\" class=\"sk-toggleable__label sk-toggleable__label-arrow\">regressor: Ridge</label><div class=\"sk-toggleable__content\"><pre>Ridge()</pre></div></div></div><div class=\"sk-serial\"><div class=\"sk-item\"><div class=\"sk-estimator sk-toggleable\"><input class=\"sk-toggleable__control sk-hidden--visually\" id=\"sk-estimator-id-312\" type=\"checkbox\" ><label for=\"sk-estimator-id-312\" class=\"sk-toggleable__label sk-toggleable__label-arrow\">Ridge</label><div class=\"sk-toggleable__content\"><pre>Ridge()</pre></div></div></div></div></div></div><div class=\"sk-parallel-item\"><div class=\"sk-item\"><div class=\"sk-label-container\"><div class=\"sk-label sk-toggleable\"><input class=\"sk-toggleable__control sk-hidden--visually\" id=\"sk-estimator-id-313\" type=\"checkbox\" ><label for=\"sk-estimator-id-313\" class=\"sk-toggleable__label sk-toggleable__label-arrow\">transformer: StandardScaler</label><div class=\"sk-toggleable__content\"><pre>StandardScaler()</pre></div></div></div><div class=\"sk-serial\"><div class=\"sk-item\"><div class=\"sk-estimator sk-toggleable\"><input class=\"sk-toggleable__control sk-hidden--visually\" id=\"sk-estimator-id-314\" type=\"checkbox\" ><label for=\"sk-estimator-id-314\" class=\"sk-toggleable__label sk-toggleable__label-arrow\">StandardScaler</label><div class=\"sk-toggleable__content\"><pre>StandardScaler()</pre></div></div></div></div></div></div></div></div></div></div></div></div></div></div></div></div></div>"
      ],
      "text/plain": [
       "GridSearchCV(cv=5,\n",
       "             estimator=Pipeline(steps=[('preprocessor',\n",
       "                                        ColumnTransformer(transformers=[('num',\n",
       "                                                                         StandardScaler(),\n",
       "                                                                         ['year',\n",
       "                                                                          'odometer']),\n",
       "                                                                        ('cat',\n",
       "                                                                         OneHotEncoder(drop='first',\n",
       "                                                                                       handle_unknown='ignore',\n",
       "                                                                                       sparse_output=False),\n",
       "                                                                         ['fuel',\n",
       "                                                                          'title_status',\n",
       "                                                                          'transmission',\n",
       "                                                                          'manufacturer'])])),\n",
       "                                       ('ridge_model',\n",
       "                                        TransformedTargetRegressor(regressor=Ridge(),\n",
       "                                                                   transformer=StandardScaler()))]),\n",
       "             param_grid={'ridge_model__regressor__alpha': [0.001, 0.01, 0.1,\n",
       "                                                           1.0, 10.0]},\n",
       "             scoring='neg_mean_squared_error')"
      ]
     },
     "execution_count": 550,
     "metadata": {},
     "output_type": "execute_result"
    }
   ],
   "source": [
    "# setup hyperparameter grid for grid search and perform cross validation\n",
    "param_grid = {\n",
    "    'ridge_model__regressor__alpha': [0.001, 0.01, 0.1, 1.0, 10.0]\n",
    "}\n",
    "\n",
    "grid_search = GridSearchCV(pipeline, param_grid, scoring='neg_mean_squared_error', cv=5)\n",
    "grid_search.fit(X_train, y_train)"
   ]
  },
  {
   "cell_type": "code",
   "execution_count": 551,
   "metadata": {
    "tags": []
   },
   "outputs": [],
   "source": [
    "# Get the best model from the grid search\n",
    "best_ridge_model = grid_search.best_estimator_\n",
    "preprocessor.fit(X)\n",
    "y_pred = best_ridge_model.predict(X)"
   ]
  },
  {
   "cell_type": "code",
   "execution_count": 552,
   "metadata": {
    "tags": []
   },
   "outputs": [
    {
     "name": "stdout",
     "output_type": "stream",
     "text": [
      "Test MSE: 99920405.71824543\n"
     ]
    }
   ],
   "source": [
    "# Evaluate the best model on the test set\n",
    "y_pred = best_ridge_model.predict(X_test)\n",
    "test_mse = mean_squared_error(y_test, y_pred)\n",
    "print(f'Test MSE: {test_mse}')"
   ]
  },
  {
   "cell_type": "code",
   "execution_count": 425,
   "metadata": {
    "tags": []
   },
   "outputs": [
    {
     "name": "stdout",
     "output_type": "stream",
     "text": [
      "\n",
      "Permutation Importance:\n",
      "                         Feature  Importance\n",
      "12            transmission_other    0.017410\n",
      "5                     fuel_other    0.009603\n",
      "3                       fuel_gas    0.008904\n",
      "0                           year    0.004348\n",
      "4                    fuel_hybrid    0.002422\n",
      "32              manufacturer_kia    0.002055\n",
      "28          manufacturer_hyundai    0.001642\n",
      "42           manufacturer_nissan    0.001432\n",
      "21            manufacturer_dodge    0.001125\n",
      "2                  fuel_electric    0.000992\n",
      "25              manufacturer_gmc    0.000625\n",
      "34            manufacturer_lexus    0.000596\n",
      "49            manufacturer_tesla    0.000503\n",
      "51       manufacturer_volkswagen    0.000480\n",
      "44          manufacturer_porsche    0.000464\n",
      "11           transmission_manual    0.000462\n",
      "36            manufacturer_mazda    0.000294\n",
      "46            manufacturer_rover    0.000260\n",
      "30           manufacturer_jaguar    0.000247\n",
      "15             manufacturer_audi    0.000242\n",
      "50           manufacturer_toyota    0.000226\n",
      "20         manufacturer_chrysler    0.000198\n",
      "6              title_status_lien    0.000189\n",
      "40       manufacturer_mitsubishi    0.000159\n",
      "18         manufacturer_cadillac    0.000145\n",
      "16              manufacturer_bmw    0.000117\n",
      "22          manufacturer_ferrari    0.000109\n",
      "23             manufacturer_fiat    0.000070\n",
      "35          manufacturer_lincoln    0.000060\n",
      "27            manufacturer_honda    0.000051\n",
      "7           title_status_missing    0.000048\n",
      "8        title_status_parts only    0.000044\n",
      "33       manufacturer_land rover    0.000035\n",
      "38          manufacturer_mercury    0.000024\n",
      "29         manufacturer_infiniti    0.000022\n",
      "24             manufacturer_ford    0.000017\n",
      "17            manufacturer_buick    0.000012\n",
      "13       manufacturer_alfa-romeo    0.000006\n",
      "26  manufacturer_harley-davidson    0.000006\n",
      "52            manufacturer_volvo    0.000005\n",
      "41           manufacturer_morgan    0.000002\n",
      "19        manufacturer_chevrolet   -0.000004\n",
      "14     manufacturer_aston-martin   -0.000018\n",
      "31             manufacturer_jeep   -0.000019\n",
      "39             manufacturer_mini   -0.000020\n",
      "47           manufacturer_saturn   -0.000030\n",
      "43          manufacturer_pontiac   -0.000036\n",
      "48           manufacturer_subaru   -0.000188\n",
      "10          title_status_salvage   -0.000200\n",
      "37    manufacturer_mercedes-benz   -0.000233\n",
      "45              manufacturer_ram   -0.000313\n",
      "1                       odometer   -0.000368\n",
      "9           title_status_rebuilt   -0.000508\n"
     ]
    }
   ],
   "source": [
    "# Interpret the best model using permutation_importance\n",
    "print(\"\\nPermutation Importance:\")\n",
    "perm_importance = permutation_importance(best_ridge_model.named_steps['ridge_model'].regressor_, preprocessor.transform(X), y_log, n_repeats=30, random_state=22)\n",
    "feature_importance = pd.DataFrame({\n",
    "    'Feature': preprocessor.named_transformers_['num'].get_feature_names_out(numerical_cols).tolist() +\n",
    "               preprocessor.named_transformers_['cat'].get_feature_names_out(categorical_cols).tolist(),\n",
    "    'Importance': perm_importance.importances_mean\n",
    "})\n",
    "feature_importance = feature_importance.sort_values(by='Importance', ascending=False)\n",
    "print(feature_importance)\n"
   ]
  },
  {
   "cell_type": "code",
   "execution_count": 553,
   "metadata": {
    "tags": []
   },
   "outputs": [],
   "source": [
    "ridge_train_preds = grid_search.predict(X_train)\n",
    "ridge_test_preds = grid_search.predict(X_test)\n",
    "ridge_train_mse = mean_squared_error(y_train, ridge_train_preds)\n",
    "ridge_test_mse = mean_squared_error(y_test, ridge_test_preds)"
   ]
  },
  {
   "cell_type": "code",
   "execution_count": 554,
   "metadata": {
    "tags": []
   },
   "outputs": [
    {
     "name": "stdout",
     "output_type": "stream",
     "text": [
      "Train MSE: 99526937.03713724\n",
      "Test MSE: 99920405.71824543\n"
     ]
    }
   ],
   "source": [
    "print(f'Train MSE: {ridge_train_mse}')\n",
    "print(f'Test MSE: {ridge_test_mse}')"
   ]
  },
  {
   "cell_type": "markdown",
   "metadata": {},
   "source": [
    "#### Ridge regression model also resulted in high MSE. So let us try to reduce dimensioanlity using PCA and then try to build a ridge regression model"
   ]
  },
  {
   "cell_type": "code",
   "execution_count": 212,
   "metadata": {
    "tags": []
   },
   "outputs": [
    {
     "data": {
      "text/html": [
       "<div>\n",
       "<style scoped>\n",
       "    .dataframe tbody tr th:only-of-type {\n",
       "        vertical-align: middle;\n",
       "    }\n",
       "\n",
       "    .dataframe tbody tr th {\n",
       "        vertical-align: top;\n",
       "    }\n",
       "\n",
       "    .dataframe thead th {\n",
       "        text-align: right;\n",
       "    }\n",
       "</style>\n",
       "<table border=\"1\" class=\"dataframe\">\n",
       "  <thead>\n",
       "    <tr style=\"text-align: right;\">\n",
       "      <th></th>\n",
       "      <th>price</th>\n",
       "      <th>year</th>\n",
       "      <th>manufacturer</th>\n",
       "      <th>fuel</th>\n",
       "      <th>odometer</th>\n",
       "      <th>title_status</th>\n",
       "      <th>transmission</th>\n",
       "    </tr>\n",
       "  </thead>\n",
       "  <tbody>\n",
       "    <tr>\n",
       "      <th>27</th>\n",
       "      <td>-0.003608</td>\n",
       "      <td>0.282713</td>\n",
       "      <td>gmc</td>\n",
       "      <td>gas</td>\n",
       "      <td>-0.193014</td>\n",
       "      <td>clean</td>\n",
       "      <td>other</td>\n",
       "    </tr>\n",
       "    <tr>\n",
       "      <th>28</th>\n",
       "      <td>-0.004477</td>\n",
       "      <td>-0.161068</td>\n",
       "      <td>chevrolet</td>\n",
       "      <td>gas</td>\n",
       "      <td>-0.127245</td>\n",
       "      <td>clean</td>\n",
       "      <td>other</td>\n",
       "    </tr>\n",
       "    <tr>\n",
       "      <th>29</th>\n",
       "      <td>-0.003134</td>\n",
       "      <td>0.948386</td>\n",
       "      <td>chevrolet</td>\n",
       "      <td>gas</td>\n",
       "      <td>-0.384613</td>\n",
       "      <td>clean</td>\n",
       "      <td>other</td>\n",
       "    </tr>\n",
       "    <tr>\n",
       "      <th>30</th>\n",
       "      <td>-0.003813</td>\n",
       "      <td>0.615550</td>\n",
       "      <td>toyota</td>\n",
       "      <td>gas</td>\n",
       "      <td>-0.276049</td>\n",
       "      <td>clean</td>\n",
       "      <td>other</td>\n",
       "    </tr>\n",
       "    <tr>\n",
       "      <th>31</th>\n",
       "      <td>-0.005076</td>\n",
       "      <td>0.171768</td>\n",
       "      <td>ford</td>\n",
       "      <td>gas</td>\n",
       "      <td>0.153364</td>\n",
       "      <td>clean</td>\n",
       "      <td>automatic</td>\n",
       "    </tr>\n",
       "  </tbody>\n",
       "</table>\n",
       "</div>"
      ],
      "text/plain": [
       "       price      year manufacturer fuel  odometer title_status transmission\n",
       "27 -0.003608  0.282713          gmc  gas -0.193014        clean        other\n",
       "28 -0.004477 -0.161068    chevrolet  gas -0.127245        clean        other\n",
       "29 -0.003134  0.948386    chevrolet  gas -0.384613        clean        other\n",
       "30 -0.003813  0.615550       toyota  gas -0.276049        clean        other\n",
       "31 -0.005076  0.171768         ford  gas  0.153364        clean    automatic"
      ]
     },
     "execution_count": 212,
     "metadata": {},
     "output_type": "execute_result"
    }
   ],
   "source": [
    "cars_df.head()"
   ]
  },
  {
   "cell_type": "code",
   "execution_count": 504,
   "metadata": {
    "tags": []
   },
   "outputs": [
    {
     "name": "stdout",
     "output_type": "stream",
     "text": [
      "       price      year  odometer  fuel_diesel  fuel_electric  fuel_gas  \\\n",
      "27  1.273031  1.116913  0.977942     0.073711       1.525284  0.087116   \n",
      "28  0.440850 -1.276950  0.533057     0.534531      -0.524181 -0.367004   \n",
      "29  1.726949 -1.507318  0.674948     0.441654       0.200339 -0.952357   \n",
      "30  1.076334 -1.227591  0.697482     1.263460       0.259744  0.356117   \n",
      "31 -0.133356  0.187543 -0.036365    -0.295186      -0.145100  0.018257   \n",
      "\n",
      "    fuel_hybrid  fuel_other  title_status_clean  title_status_lien  ...  \\\n",
      "27     0.090245   -0.073412            0.445986          -0.258412  ...   \n",
      "28    -0.016595   -0.183295            0.018643          -0.107924  ...   \n",
      "29     0.409912    0.137197            0.001237          -0.247047  ...   \n",
      "30    -0.237186   -0.081044           -0.477233          -0.055005  ...   \n",
      "31    -0.200364   -0.266583           -0.216814           0.205000  ...   \n",
      "\n",
      "    transmission_other  manufacturer_acura  manufacturer_alfa-romeo  \\\n",
      "27            0.155425            0.043587                 0.060147   \n",
      "28           -0.029400           -0.080507                -0.017527   \n",
      "29           -0.017083           -0.032709                -0.007423   \n",
      "30           -0.370134           -0.233666                -0.062264   \n",
      "31           -0.037391           -0.065343                -0.011045   \n",
      "\n",
      "    manufacturer_aston-martin  manufacturer_audi  manufacturer_bmw  \\\n",
      "27                  -0.037451          -0.046492          0.012312   \n",
      "28                   0.037579          -0.052457         -0.019949   \n",
      "29                   0.022317          -0.033868         -0.008758   \n",
      "30                   0.086744          -0.026340         -0.040564   \n",
      "31                   0.012995          -0.021486         -0.018567   \n",
      "\n",
      "    manufacturer_buick  manufacturer_cadillac  manufacturer_chevrolet  \\\n",
      "27           -0.052201               0.015977                0.030290   \n",
      "28           -0.020583              -0.044038               -0.040410   \n",
      "29           -0.011850              -0.034237               -0.027249   \n",
      "30           -0.030067              -0.059522               -0.058588   \n",
      "31           -0.009596              -0.013530               -0.010897   \n",
      "\n",
      "    manufacturer_chrysler  \n",
      "27              -0.088333  \n",
      "28               0.020234  \n",
      "29               0.020086  \n",
      "30               0.002009  \n",
      "31              -0.012851  \n",
      "\n",
      "[5 rows x 26 columns]\n"
     ]
    }
   ],
   "source": [
    "categorical_columns = ['fuel', 'title_status', 'transmission', 'manufacturer']\n",
    "cars_df_ohe = pd.get_dummies(cars_df[categorical_columns])\n",
    "numerical_columns = ['price', 'year', 'odometer']\n",
    "scaler = StandardScaler()\n",
    "cars_df[numerical_columns] = scaler.fit_transform(cars_df[numerical_columns])\n",
    "car_test = cars_df.drop(columns=['fuel', 'title_status', 'transmission', 'manufacturer'])\n",
    "cars_encoded = pd.concat([car_test, cars_df_ohe], axis=1)\n",
    "feature_names = list(cars_encoded.drop('price', axis=1).columns)\n",
    "# Apply PCA. Setting to 25 since we have 50+ feature after one hot encoding catagorical features\n",
    "n_components = 25  \n",
    "pca = PCA(n_components=n_components)\n",
    "pca_result = pca.fit_transform(cars_encoded.drop('price', axis=1))  \n",
    "\n",
    "# Create a DataFrame with the PCA\n",
    "pca_columns = [feature_names[i] for i in range(n_components)]\n",
    "df_pca = pd.DataFrame(data=pca_result, columns=pca_columns)\n",
    "\n",
    "# Concatenate the PCA with price\n",
    "df_final = pd.concat([cars_df['price'], df_pca], axis=1)\n",
    "print(df_final.head())"
   ]
  },
  {
   "cell_type": "code",
   "execution_count": 505,
   "metadata": {
    "tags": []
   },
   "outputs": [],
   "source": [
    "df_final = df_final.dropna()"
   ]
  },
  {
   "cell_type": "code",
   "execution_count": 506,
   "metadata": {
    "tags": []
   },
   "outputs": [],
   "source": [
    "X_train, X_test, y_train, y_test = train_test_split(df_final.drop('price', axis=1), df_final['price'], test_size=0.2, random_state=42)"
   ]
  },
  {
   "cell_type": "code",
   "execution_count": 508,
   "metadata": {
    "tags": []
   },
   "outputs": [
    {
     "name": "stdout",
     "output_type": "stream",
     "text": [
      "Mean Squared Error: 0.9779904082474037\n"
     ]
    }
   ],
   "source": [
    "# Fit a simple linear regression model after PCA\n",
    "model = LinearRegression()\n",
    "model.fit(X_train, y_train)\n",
    "\n",
    "# Make predictions on the test set\n",
    "predictions = model.predict(X_test)\n",
    "\n",
    "# Evaluate the model\n",
    "mse = mean_squared_error(y_test, predictions)\n",
    "print(f'Mean Squared Error: {mse}')"
   ]
  },
  {
   "cell_type": "code",
   "execution_count": 437,
   "metadata": {
    "tags": []
   },
   "outputs": [
    {
     "name": "stdout",
     "output_type": "stream",
     "text": [
      "<class 'pandas.core.frame.DataFrame'>\n",
      "Index: 259924 entries, 141658 to 141558\n",
      "Data columns (total 25 columns):\n",
      " #   Column                     Non-Null Count   Dtype  \n",
      "---  ------                     --------------   -----  \n",
      " 0   year                       259924 non-null  float64\n",
      " 1   odometer                   259924 non-null  float64\n",
      " 2   fuel_diesel                259924 non-null  float64\n",
      " 3   fuel_electric              259924 non-null  float64\n",
      " 4   fuel_gas                   259924 non-null  float64\n",
      " 5   fuel_hybrid                259924 non-null  float64\n",
      " 6   fuel_other                 259924 non-null  float64\n",
      " 7   title_status_clean         259924 non-null  float64\n",
      " 8   title_status_lien          259924 non-null  float64\n",
      " 9   title_status_missing       259924 non-null  float64\n",
      " 10  title_status_parts only    259924 non-null  float64\n",
      " 11  title_status_rebuilt       259924 non-null  float64\n",
      " 12  title_status_salvage       259924 non-null  float64\n",
      " 13  transmission_automatic     259924 non-null  float64\n",
      " 14  transmission_manual        259924 non-null  float64\n",
      " 15  transmission_other         259924 non-null  float64\n",
      " 16  manufacturer_acura         259924 non-null  float64\n",
      " 17  manufacturer_alfa-romeo    259924 non-null  float64\n",
      " 18  manufacturer_aston-martin  259924 non-null  float64\n",
      " 19  manufacturer_audi          259924 non-null  float64\n",
      " 20  manufacturer_bmw           259924 non-null  float64\n",
      " 21  manufacturer_buick         259924 non-null  float64\n",
      " 22  manufacturer_cadillac      259924 non-null  float64\n",
      " 23  manufacturer_chevrolet     259924 non-null  float64\n",
      " 24  manufacturer_chrysler      259924 non-null  float64\n",
      "dtypes: float64(25)\n",
      "memory usage: 51.6 MB\n"
     ]
    }
   ],
   "source": [
    "X_train.info()"
   ]
  },
  {
   "cell_type": "code",
   "execution_count": 509,
   "metadata": {
    "tags": []
   },
   "outputs": [],
   "source": [
    "X = df_final.drop('price', axis=1)\n",
    "y = df_final['price']\n",
    "X_train, X_test, y_train, y_test = train_test_split(X, y, test_size=0.2, random_state=42)\n",
    "\n",
    "numerical_cols = X_train.select_dtypes(include='float').columns.tolist()\n",
    "numeric_transformer = StandardScaler()\n",
    "\n",
    "# Create column transformer\n",
    "preprocessor = ColumnTransformer(\n",
    "    transformers=[\n",
    "        ('num', numeric_transformer, numerical_cols)\n",
    "    ]\n",
    ")\n",
    "\n",
    "ridge_model = TransformedTargetRegressor(\n",
    "    regressor=Ridge(),\n",
    "    transformer=StandardScaler()\n",
    ")\n",
    "\n",
    "pipeline = Pipeline([\n",
    "    ('preprocessor', preprocessor),\n",
    "    ('ridge_model', ridge_model)\n",
    "])\n",
    "\n",
    "\n",
    "param_grid = {\n",
    "    'ridge_model__regressor__alpha': [0.01, 0.1, 1.0, 10.0]\n",
    "}\n",
    "\n",
    "# Perform grid search with cross-validation\n",
    "grid_search = GridSearchCV(pipeline, param_grid, scoring='neg_mean_squared_error', cv=5)\n",
    "grid_search.fit(X, y)\n",
    "\n",
    "# Get the best model from the grid search\n",
    "best_ridge_model = grid_search.best_estimator_\n",
    "\n",
    "preprocessor.fit(X)\n",
    "\n",
    "# Evaluate the best model on the test set\n",
    "y_pred = best_ridge_model.predict(X)\n"
   ]
  },
  {
   "cell_type": "code",
   "execution_count": 510,
   "metadata": {
    "tags": []
   },
   "outputs": [
    {
     "name": "stdout",
     "output_type": "stream",
     "text": [
      "\n",
      "Permutation Importance:\n",
      "                      Feature    Importance\n",
      "18  manufacturer_aston-martin  5.421273e-05\n",
      "7          title_status_clean  4.712334e-05\n",
      "3               fuel_electric  4.191637e-05\n",
      "1                    odometer  3.267126e-05\n",
      "5                 fuel_hybrid  3.120702e-05\n",
      "2                 fuel_diesel  3.072549e-05\n",
      "21         manufacturer_buick  2.740555e-05\n",
      "14        transmission_manual  2.632498e-05\n",
      "9        title_status_missing  2.351808e-05\n",
      "16         manufacturer_acura  1.891574e-05\n",
      "8           title_status_lien  1.235780e-05\n",
      "0                        year  1.226144e-05\n",
      "17    manufacturer_alfa-romeo  9.086674e-06\n",
      "24      manufacturer_chrysler  8.542776e-06\n",
      "4                    fuel_gas  7.528697e-06\n",
      "22      manufacturer_cadillac  4.375916e-06\n",
      "15         transmission_other  1.528120e-06\n",
      "6                  fuel_other  1.006523e-06\n",
      "12       title_status_salvage  6.909504e-07\n",
      "20           manufacturer_bmw  4.852248e-07\n",
      "13     transmission_automatic  2.676866e-07\n",
      "19          manufacturer_audi  2.576816e-07\n",
      "23     manufacturer_chevrolet  1.770976e-07\n",
      "11       title_status_rebuilt  6.562743e-08\n",
      "10    title_status_parts only  4.321569e-08\n"
     ]
    }
   ],
   "source": [
    "# Interpret the best model using permutation_importance\n",
    "print(\"\\nPermutation Importance:\")\n",
    "perm_importance = permutation_importance(best_ridge_model.named_steps['ridge_model'].regressor_, preprocessor.transform(X), y, n_repeats=30, random_state=42)\n",
    "feature_importance = pd.DataFrame({\n",
    "    'Feature': preprocessor.named_transformers_['num'].get_feature_names_out(numerical_cols).tolist(),\n",
    "    'Importance': perm_importance.importances_mean\n",
    "})\n",
    "feature_importance = feature_importance.sort_values(by='Importance', ascending=False)\n",
    "print(feature_importance)"
   ]
  },
  {
   "cell_type": "code",
   "execution_count": 511,
   "metadata": {
    "tags": []
   },
   "outputs": [
    {
     "data": {
      "text/html": [
       "<div>\n",
       "<style scoped>\n",
       "    .dataframe tbody tr th:only-of-type {\n",
       "        vertical-align: middle;\n",
       "    }\n",
       "\n",
       "    .dataframe tbody tr th {\n",
       "        vertical-align: top;\n",
       "    }\n",
       "\n",
       "    .dataframe thead th {\n",
       "        text-align: right;\n",
       "    }\n",
       "</style>\n",
       "<table border=\"1\" class=\"dataframe\">\n",
       "  <thead>\n",
       "    <tr style=\"text-align: right;\">\n",
       "      <th></th>\n",
       "      <th>Feature</th>\n",
       "      <th>Coefficient</th>\n",
       "      <th>Importance</th>\n",
       "    </tr>\n",
       "  </thead>\n",
       "  <tbody>\n",
       "    <tr>\n",
       "      <th>18</th>\n",
       "      <td>manufacturer_aston-martin</td>\n",
       "      <td>-0.005059</td>\n",
       "      <td>5.421273e-05</td>\n",
       "    </tr>\n",
       "    <tr>\n",
       "      <th>7</th>\n",
       "      <td>title_status_clean</td>\n",
       "      <td>-0.005017</td>\n",
       "      <td>4.712334e-05</td>\n",
       "    </tr>\n",
       "    <tr>\n",
       "      <th>3</th>\n",
       "      <td>fuel_electric</td>\n",
       "      <td>-0.004551</td>\n",
       "      <td>4.191637e-05</td>\n",
       "    </tr>\n",
       "    <tr>\n",
       "      <th>1</th>\n",
       "      <td>odometer</td>\n",
       "      <td>0.003968</td>\n",
       "      <td>3.267126e-05</td>\n",
       "    </tr>\n",
       "    <tr>\n",
       "      <th>5</th>\n",
       "      <td>fuel_hybrid</td>\n",
       "      <td>0.003928</td>\n",
       "      <td>3.120702e-05</td>\n",
       "    </tr>\n",
       "    <tr>\n",
       "      <th>2</th>\n",
       "      <td>fuel_diesel</td>\n",
       "      <td>-0.003597</td>\n",
       "      <td>3.072549e-05</td>\n",
       "    </tr>\n",
       "    <tr>\n",
       "      <th>21</th>\n",
       "      <td>manufacturer_buick</td>\n",
       "      <td>-0.003574</td>\n",
       "      <td>2.740555e-05</td>\n",
       "    </tr>\n",
       "    <tr>\n",
       "      <th>14</th>\n",
       "      <td>transmission_manual</td>\n",
       "      <td>0.003419</td>\n",
       "      <td>2.632498e-05</td>\n",
       "    </tr>\n",
       "    <tr>\n",
       "      <th>9</th>\n",
       "      <td>title_status_missing</td>\n",
       "      <td>-0.003572</td>\n",
       "      <td>2.351808e-05</td>\n",
       "    </tr>\n",
       "    <tr>\n",
       "      <th>16</th>\n",
       "      <td>manufacturer_acura</td>\n",
       "      <td>0.003076</td>\n",
       "      <td>1.891574e-05</td>\n",
       "    </tr>\n",
       "    <tr>\n",
       "      <th>8</th>\n",
       "      <td>title_status_lien</td>\n",
       "      <td>0.002452</td>\n",
       "      <td>1.235780e-05</td>\n",
       "    </tr>\n",
       "    <tr>\n",
       "      <th>0</th>\n",
       "      <td>year</td>\n",
       "      <td>-0.002428</td>\n",
       "      <td>1.226144e-05</td>\n",
       "    </tr>\n",
       "    <tr>\n",
       "      <th>17</th>\n",
       "      <td>manufacturer_alfa-romeo</td>\n",
       "      <td>-0.001927</td>\n",
       "      <td>9.086674e-06</td>\n",
       "    </tr>\n",
       "    <tr>\n",
       "      <th>24</th>\n",
       "      <td>manufacturer_chrysler</td>\n",
       "      <td>-0.002262</td>\n",
       "      <td>8.542776e-06</td>\n",
       "    </tr>\n",
       "    <tr>\n",
       "      <th>4</th>\n",
       "      <td>fuel_gas</td>\n",
       "      <td>-0.001720</td>\n",
       "      <td>7.528697e-06</td>\n",
       "    </tr>\n",
       "    <tr>\n",
       "      <th>22</th>\n",
       "      <td>manufacturer_cadillac</td>\n",
       "      <td>0.001484</td>\n",
       "      <td>4.375916e-06</td>\n",
       "    </tr>\n",
       "    <tr>\n",
       "      <th>15</th>\n",
       "      <td>transmission_other</td>\n",
       "      <td>-0.001285</td>\n",
       "      <td>1.528120e-06</td>\n",
       "    </tr>\n",
       "    <tr>\n",
       "      <th>6</th>\n",
       "      <td>fuel_other</td>\n",
       "      <td>-0.000756</td>\n",
       "      <td>1.006523e-06</td>\n",
       "    </tr>\n",
       "    <tr>\n",
       "      <th>12</th>\n",
       "      <td>title_status_salvage</td>\n",
       "      <td>0.000388</td>\n",
       "      <td>6.909504e-07</td>\n",
       "    </tr>\n",
       "    <tr>\n",
       "      <th>20</th>\n",
       "      <td>manufacturer_bmw</td>\n",
       "      <td>0.000571</td>\n",
       "      <td>4.852248e-07</td>\n",
       "    </tr>\n",
       "    <tr>\n",
       "      <th>13</th>\n",
       "      <td>transmission_automatic</td>\n",
       "      <td>0.000894</td>\n",
       "      <td>2.676866e-07</td>\n",
       "    </tr>\n",
       "    <tr>\n",
       "      <th>19</th>\n",
       "      <td>manufacturer_audi</td>\n",
       "      <td>-0.000445</td>\n",
       "      <td>2.576816e-07</td>\n",
       "    </tr>\n",
       "    <tr>\n",
       "      <th>23</th>\n",
       "      <td>manufacturer_chevrolet</td>\n",
       "      <td>0.000224</td>\n",
       "      <td>1.770976e-07</td>\n",
       "    </tr>\n",
       "    <tr>\n",
       "      <th>11</th>\n",
       "      <td>title_status_rebuilt</td>\n",
       "      <td>-0.000266</td>\n",
       "      <td>6.562743e-08</td>\n",
       "    </tr>\n",
       "    <tr>\n",
       "      <th>10</th>\n",
       "      <td>title_status_parts only</td>\n",
       "      <td>0.000289</td>\n",
       "      <td>4.321569e-08</td>\n",
       "    </tr>\n",
       "  </tbody>\n",
       "</table>\n",
       "</div>"
      ],
      "text/plain": [
       "                      Feature  Coefficient    Importance\n",
       "18  manufacturer_aston-martin    -0.005059  5.421273e-05\n",
       "7          title_status_clean    -0.005017  4.712334e-05\n",
       "3               fuel_electric    -0.004551  4.191637e-05\n",
       "1                    odometer     0.003968  3.267126e-05\n",
       "5                 fuel_hybrid     0.003928  3.120702e-05\n",
       "2                 fuel_diesel    -0.003597  3.072549e-05\n",
       "21         manufacturer_buick    -0.003574  2.740555e-05\n",
       "14        transmission_manual     0.003419  2.632498e-05\n",
       "9        title_status_missing    -0.003572  2.351808e-05\n",
       "16         manufacturer_acura     0.003076  1.891574e-05\n",
       "8           title_status_lien     0.002452  1.235780e-05\n",
       "0                        year    -0.002428  1.226144e-05\n",
       "17    manufacturer_alfa-romeo    -0.001927  9.086674e-06\n",
       "24      manufacturer_chrysler    -0.002262  8.542776e-06\n",
       "4                    fuel_gas    -0.001720  7.528697e-06\n",
       "22      manufacturer_cadillac     0.001484  4.375916e-06\n",
       "15         transmission_other    -0.001285  1.528120e-06\n",
       "6                  fuel_other    -0.000756  1.006523e-06\n",
       "12       title_status_salvage     0.000388  6.909504e-07\n",
       "20           manufacturer_bmw     0.000571  4.852248e-07\n",
       "13     transmission_automatic     0.000894  2.676866e-07\n",
       "19          manufacturer_audi    -0.000445  2.576816e-07\n",
       "23     manufacturer_chevrolet     0.000224  1.770976e-07\n",
       "11       title_status_rebuilt    -0.000266  6.562743e-08\n",
       "10    title_status_parts only     0.000289  4.321569e-08"
      ]
     },
     "execution_count": 511,
     "metadata": {},
     "output_type": "execute_result"
    }
   ],
   "source": [
    "# Get the coefficients from the best Ridge model\n",
    "coefficients = best_ridge_model.named_steps['ridge_model'].regressor_.coef_\n",
    "\n",
    "# Create a dataframe for coefficients\n",
    "coefficients_df = pd.DataFrame({\n",
    "    'Feature': numerical_cols,\n",
    "    'Coefficient': coefficients\n",
    "})\n",
    "\n",
    "# Merge coefficients and permutation importances dataframes\n",
    "merged_df = pd.merge(coefficients_df, feature_importance, on='Feature')\n",
    "\n",
    "merged_df.sort_values(by='Importance', ascending=False)"
   ]
  },
  {
   "cell_type": "code",
   "execution_count": 513,
   "metadata": {
    "tags": []
   },
   "outputs": [],
   "source": [
    "ridge_pca_train_preds = grid_search.predict(X_train)\n",
    "ridge_pca_test_preds = grid_search.predict(X_test)\n",
    "ridge_pca_train_mse = mean_squared_error(y_train, ridge_pca_train_preds)\n",
    "ridge_pca_test_mse = mean_squared_error(y_test, ridge_pca_test_preds)"
   ]
  },
  {
   "cell_type": "code",
   "execution_count": 515,
   "metadata": {
    "tags": []
   },
   "outputs": [
    {
     "name": "stdout",
     "output_type": "stream",
     "text": [
      "Train MSE: 0.9799147201154631\n",
      "Test MSE: 0.9777584942436183\n"
     ]
    }
   ],
   "source": [
    "print(f'Train MSE: {ridge_pca_train_mse}')\n",
    "print(f'Test MSE: {ridge_pca_test_mse}')"
   ]
  },
  {
   "cell_type": "code",
   "execution_count": null,
   "metadata": {},
   "outputs": [],
   "source": []
  },
  {
   "cell_type": "markdown",
   "metadata": {},
   "source": [
    "### Evaluation\n",
    "\n",
    "With some modeling accomplished, we aim to reflect on what we identify as a high quality model and what we are able to learn from this.  We should review our business objective and explore how well we can provide meaningful insight on drivers of used car prices.  Your goal now is to distill your findings and determine whether the earlier phases need revisitation and adjustment or if you have information of value to bring back to your client."
   ]
  },
  {
   "cell_type": "code",
   "execution_count": 555,
   "metadata": {},
   "outputs": [
    {
     "data": {
      "text/html": [
       "<div>\n",
       "<style scoped>\n",
       "    .dataframe tbody tr th:only-of-type {\n",
       "        vertical-align: middle;\n",
       "    }\n",
       "\n",
       "    .dataframe tbody tr th {\n",
       "        vertical-align: top;\n",
       "    }\n",
       "\n",
       "    .dataframe thead th {\n",
       "        text-align: right;\n",
       "    }\n",
       "</style>\n",
       "<table border=\"1\" class=\"dataframe\">\n",
       "  <thead>\n",
       "    <tr style=\"text-align: right;\">\n",
       "      <th></th>\n",
       "      <th>Models</th>\n",
       "      <th>Training MSE</th>\n",
       "      <th>Test MSE</th>\n",
       "    </tr>\n",
       "  </thead>\n",
       "  <tbody>\n",
       "    <tr>\n",
       "      <th>0</th>\n",
       "      <td>Simple Regression</td>\n",
       "      <td>1.354135e+08</td>\n",
       "      <td>1.337188e+08</td>\n",
       "    </tr>\n",
       "    <tr>\n",
       "      <th>1</th>\n",
       "      <td>Regression with all Features</td>\n",
       "      <td>9.921410e+07</td>\n",
       "      <td>9.825999e+07</td>\n",
       "    </tr>\n",
       "    <tr>\n",
       "      <th>2</th>\n",
       "      <td>Huber Regression</td>\n",
       "      <td>1.370054e+08</td>\n",
       "      <td>1.351977e+08</td>\n",
       "    </tr>\n",
       "    <tr>\n",
       "      <th>3</th>\n",
       "      <td>Lasso</td>\n",
       "      <td>1.103037e+08</td>\n",
       "      <td>1.110295e+08</td>\n",
       "    </tr>\n",
       "    <tr>\n",
       "      <th>4</th>\n",
       "      <td>Ridge</td>\n",
       "      <td>9.952694e+07</td>\n",
       "      <td>9.992041e+07</td>\n",
       "    </tr>\n",
       "    <tr>\n",
       "      <th>5</th>\n",
       "      <td>Ridge with PCA</td>\n",
       "      <td>9.799147e-01</td>\n",
       "      <td>9.777585e-01</td>\n",
       "    </tr>\n",
       "  </tbody>\n",
       "</table>\n",
       "</div>"
      ],
      "text/plain": [
       "                         Models  Training MSE      Test MSE\n",
       "0             Simple Regression  1.354135e+08  1.337188e+08\n",
       "1  Regression with all Features  9.921410e+07  9.825999e+07\n",
       "2              Huber Regression  1.370054e+08  1.351977e+08\n",
       "3                         Lasso  1.103037e+08  1.110295e+08\n",
       "4                         Ridge  9.952694e+07  9.992041e+07\n",
       "5                Ridge with PCA  9.799147e-01  9.777585e-01"
      ]
     },
     "execution_count": 555,
     "metadata": {},
     "output_type": "execute_result"
    }
   ],
   "source": [
    "models = ['Simple Regression', 'Regression with all Features', 'Huber Regression', 'Lasso', 'Ridge', 'Ridge with PCA']\n",
    "train_mse = [mse_train_lin, linreg_train_mse, huber_train_mse, lasso_train_mse, ridge_train_mse, ridge_pca_train_mse] \n",
    "test_mse = [mse_test_lin, linreg_test_mse, huber_test_mse,  lasso_test_mse,  ridge_test_mse, ridge_pca_test_mse]     \n",
    "pd.DataFrame({\"Models\": models, 'Training MSE': train_mse, 'Test MSE': test_mse})"
   ]
  },
  {
   "cell_type": "markdown",
   "metadata": {},
   "source": [
    "#### Based on the different models we developed , the ridge regression model after performing dimensionality reduction gave the best results. The MSE for training data and test data were almost the same.\n",
    "\n",
    "#### The Lasso model suggested latest model cars,car titles with lien and cars with manual transmission are expensive.Cars with higher odometer reading ,Cars with all fuel types, cars with missing titles,cars that are salvaged,rebuilt and missing parts are inexpensive. The best hyperparameter was 0.001 but the MSE was on higher side. Hence decided to build a ridge regression model"
   ]
  },
  {
   "cell_type": "markdown",
   "metadata": {},
   "source": [
    "### Deployment\n",
    "\n",
    "Now that we've settled on our models and findings, it is time to deliver the information to the client.  You should organize your work as a basic report that details your primary findings.  Keep in mind that your audience is a group of used car dealers interested in fine tuning their inventory."
   ]
  },
  {
   "cell_type": "markdown",
   "metadata": {},
   "source": [
    "#### Based on our best performing model\n",
    "\n",
    "##### Used electric cars and diesel fueled cars are cheaper compared to other fuel types\n",
    "##### Used Aston-Martin, Buick, Chrysler,Audi are are cheaper \n",
    "##### Cars with clean titles, rebuilt cars are cheaper \n",
    "##### I recommend the client to add more inventory of latest Hybrid and manual transmission cars\n"
   ]
  },
  {
   "cell_type": "code",
   "execution_count": null,
   "metadata": {},
   "outputs": [],
   "source": []
  },
  {
   "cell_type": "code",
   "execution_count": null,
   "metadata": {},
   "outputs": [],
   "source": []
  },
  {
   "cell_type": "code",
   "execution_count": null,
   "metadata": {},
   "outputs": [],
   "source": []
  },
  {
   "cell_type": "code",
   "execution_count": null,
   "metadata": {},
   "outputs": [],
   "source": []
  },
  {
   "cell_type": "code",
   "execution_count": null,
   "metadata": {},
   "outputs": [],
   "source": []
  },
  {
   "cell_type": "code",
   "execution_count": null,
   "metadata": {},
   "outputs": [],
   "source": []
  }
 ],
 "metadata": {
  "kernelspec": {
   "display_name": "Python 3 (ipykernel)",
   "language": "python",
   "name": "python3"
  },
  "language_info": {
   "codemirror_mode": {
    "name": "ipython",
    "version": 3
   },
   "file_extension": ".py",
   "mimetype": "text/x-python",
   "name": "python",
   "nbconvert_exporter": "python",
   "pygments_lexer": "ipython3",
   "version": "3.11.5"
  },
  "widgets": {
   "application/vnd.jupyter.widget-state+json": {
    "state": {},
    "version_major": 2,
    "version_minor": 0
   }
  }
 },
 "nbformat": 4,
 "nbformat_minor": 4
}
